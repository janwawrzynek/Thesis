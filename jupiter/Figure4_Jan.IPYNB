{
 "cells": [
  {
   "cell_type": "code",
   "execution_count": 1443,
   "metadata": {},
   "outputs": [
    {
     "data": {
      "text/plain": [
       "<mpmath.ctx_mp.PrecisionManager at 0x1486b9820>"
      ]
     },
     "execution_count": 1443,
     "metadata": {},
     "output_type": "execute_result"
    }
   ],
   "source": [
    "import numpy as np\n",
    "from scipy.integrate import solve_ivp\n",
    "from scipy.special import jv, yv\n",
    "import matplotlib.pyplot as plt\n",
    "import mpmath\n",
    "from scipy.integrate import quad\n",
    "from scipy.special import kn, k1\n",
    "from scipy.special import zeta\n",
    "# Physical constants (natural units: GeV, s^-1)\n",
    "M_pl = 2.435e18          # Planck mass [GeV]\n",
    "fermi_constant = 1.166e-5           # Fermi constant [GeV^-2]\n",
    "m_N = 0.1 # HNL Mass in GeV\n",
    "m_a = 1e-6 # ALP mass in GeV\n",
    "mixing_parameter_squared = 1e-10 # active-sterile neutrino sector mixing\n",
    "f_a = 1e3 # ALP decay constant scenario 1\n",
    "mpmath.workdps(50)\n",
    "\n",
    "#f_M = 0.1 # in GeV"
   ]
  },
  {
   "cell_type": "markdown",
   "metadata": {},
   "source": [
    "Light Neutrino Mass Deppisch 2024 \\\n",
    "$m_\\nu =  |U_{eN}|^2 m_N$\n"
   ]
  },
  {
   "cell_type": "code",
   "execution_count": 1444,
   "metadata": {},
   "outputs": [],
   "source": [
    "m_nu = mixing_parameter_squared*m_N"
   ]
  },
  {
   "cell_type": "markdown",
   "metadata": {},
   "source": [
    "Particle Species Equilibrium Density in the Relativistic Limit\n",
    "\n",
    "Baumann Cosmology Equation 3.22"
   ]
  },
  {
   "cell_type": "markdown",
   "metadata": {},
   "source": [
    "$n = \\frac{\\zeta (3)}{\\pi^2} * g * (\\frac{m_N}{z})^3 $ for bosons.\n",
    "\n",
    "For fermions multiply with a prefactor of $\\frac{3}{4}$"
   ]
  },
  {
   "cell_type": "markdown",
   "metadata": {},
   "source": [
    "Below I write everything in terms of z =  m_N / T , be careful of the difference in the calculation of the ALP values where in the place of 'z' I am imputting-\n",
    "'x' which is  = m_a/ T. "
   ]
  },
  {
   "cell_type": "code",
   "execution_count": 1469,
   "metadata": {},
   "outputs": [],
   "source": [
    "def n_X_eq_bosons(g, mass, z): #g is the degrees of freedom \n",
    "    n_eq = zeta(3) * g *( (mass/ z)**3 ) * (1/np.pi **2)\n",
    "    return n_eq\n",
    "\n",
    "\n"
   ]
  },
  {
   "cell_type": "code",
   "execution_count": 1446,
   "metadata": {},
   "outputs": [],
   "source": [
    "def n_X_eq_fermions(g, mass, z): #g is the degrees of freedom \n",
    "    n_eq = 0.75 * zeta(3) * g *( (mass/ z)**3 ) * (1/np.pi **2)\n",
    "    return n_eq"
   ]
  },
  {
   "cell_type": "markdown",
   "metadata": {},
   "source": [
    "Particle Density of a Non-Relativistic Gas : Baumann Cosmology Equation 3.31"
   ]
  },
  {
   "cell_type": "code",
   "execution_count": 1447,
   "metadata": {},
   "outputs": [],
   "source": [
    "pi = np.pi\n",
    "exp = np.exp\n",
    "def n_X_non_relativistic(g,mass,z):\n",
    "   return g* ((mass**2)/(2*pi * z))**1.5 * exp(-z)\n",
    "\n",
    "# This is written in terms of the HNL variable z, in the calculation for loop I redefine the number density calculator for ALPs to be in-\n",
    "# terms of a variable x = $\\frac{z *m_a}{m_N} $ Which will allow me to plot the number densities of both species in terms of the z value "
   ]
  },
  {
   "cell_type": "code",
   "execution_count": 1448,
   "metadata": {},
   "outputs": [],
   "source": [
    "z_init = 1e-4\n",
    "z_final = 1e2\n",
    "mass_temp_ratio=  np.logspace(np.log10(z_init), np.log10(z_final), 500)"
   ]
  },
  {
   "cell_type": "markdown",
   "metadata": {},
   "source": [
    "Decay Width of $N \\rightarrow a \\nu$ Deppisch 2024 equation 2.21 \\\n",
    "$\\Gamma_{N \\rightarrow a \\nu} = \\frac{|U_{eN}|^2 m_{N}^3}{4 \\pi f_{a}^2} \\sqrt{1+ (\\frac{m_a}{m_N})^2}(1-(\\frac{m_a}{m_N})^2)^\\frac{3}{2}$"
   ]
  },
  {
   "cell_type": "code",
   "execution_count": 1449,
   "metadata": {},
   "outputs": [],
   "source": [
    "def decay_width_N_av(f_a,m_N,mixing_parameter_squared, m_a):\n",
    "    decay_width_N_av = mixing_parameter_squared*(m_N**3)*(1/(4*np.pi*(f_a**2)))*(np.sqrt(1+ (m_a/m_N)**2))*((1-(m_a/m_N)**2)**1.5)\n",
    "    return decay_width_N_av\n"
   ]
  },
  {
   "cell_type": "markdown",
   "metadata": {},
   "source": [
    "$\\Gamma_{a \\rightarrow \\nu \\nu} = \\frac{1}{f_{a}^2} \\frac{m_{N}^2 m_a |U_{eN}|^4}{2 \\pi} \\sqrt{1 - \\frac{4 m_{\\nu}^2 }{m_{a}^2}} (1 - \\frac{2 m_{\\nu}^2}{m_{a}^2})$"
   ]
  },
  {
   "cell_type": "code",
   "execution_count": 1450,
   "metadata": {},
   "outputs": [],
   "source": [
    "def decay_width_a_vv(f_a, m_N, mixing_parameter_squared, m_a, m_v):\n",
    "    decay_width_a_vv = (1/(2* np.pi * f_a**2))*m_N**2 * m_a *( mixing_parameter_squared**2) * (np.sqrt(1- (4*m_nu**2)/m_a**2)) * (1- (2*m_nu**2)/m_a**2)\n",
    "    #decay_width_a_vv = ((m_N**2 )* m_a * (mixing_parameter_squared**2))/(2* np.pi * f_a**2)\n",
    "    return decay_width_a_vv"
   ]
  },
  {
   "cell_type": "markdown",
   "metadata": {},
   "source": [
    "Below I will implement the total decay width for the N-> SM process equations 2.10-2.20 Deppisch et al 2024"
   ]
  },
  {
   "cell_type": "markdown",
   "metadata": {},
   "source": [
    "$N \\to \\nu \\ell^- \\ell^+$: mediated by charged (for $\\ell = e$) and neutral currents (for $\\ell = e, \\mu, \\tau$) corresponding decay width is (with $x_\\ell = m_\\ell / m_N$)\n",
    "\n",
    "$$\n",
    "\\Gamma^{\\nu_{e} \\ell^- \\ell^+} = |U_{eN}|^2 \\frac{G_F^2 m_N^5}{96\\pi^3} \\left[ (C_1 + 2\\sin^2\\theta_W\\delta_{e,\\ell})f_1(x_\\ell) + (C_2 + \\sin^2\\theta_W\\delta_{e,\\ell})f_2(x_\\ell) \\right]\n",
    "$$\n",
    "\n",
    "with\n",
    "\n",
    "$$\n",
    "C_1 = \\frac{1}{4}(1 - 4\\sin^2\\theta_W + 8\\sin^4\\theta_W), \\quad C_2 = \\frac{1}{2}(-\\sin^2\\theta_W + 2\\sin^4\\theta_W)\n",
    "$$\n",
    "\n",
    "and the functions are defined as\n",
    "\n",
    "$\n",
    "f_1(x) = (1 - 14x^2 - 2x^4 - 12x^6)\\sqrt{1 - 4x^2} + 12x^4(x^4 - 1)L(x)$ ,\n",
    "\n",
    "$ f_2(x) = 4\\left[x^2(2 + 10x^2 - 12x^4)\\sqrt{1 - 4x^2} + 6x^4(1 - 2x^2 + 2x^4)L(x)\\right], $\n",
    "\n",
    "\n",
    "with\n",
    "\n",
    "$$\n",
    "L(x) = \\ln\\left[ \\frac{1 - 3x^2 - (1 - x^2)\\sqrt{1 - 4x^2}}{x^2(1 + \\sqrt{1 - 4x^2})} \\right].\n",
    "$$\n",
    "\n",
    "$N \\to e^- \\ell^+ \\nu_\\ell$: mediated by a charged current with $\\ell = \\mu, \\tau$. The decay width for this process is\n",
    "$$\n",
    "\\Gamma^{e^- \\ell^+ \\nu_\\ell} = |U_{eN}|^2 \\frac{G_F^2 m_N^5}{192\\pi^3} \\left[ 1 - 8x_\\ell^2 + 8x_\\ell^6 - x_\\ell^8 - 12x_\\ell^4 \\ln(x_\\ell^2) \\right]. \\tag{2.14}\n",
    "$$\n",
    "\n",
    "$N \\to \\nu_e \\nu_\\ell \\bar{\\nu}_\\ell$: mediated by a neutral current with $\\ell = e, \\mu, \\tau$. The decay width can be written as\n",
    "\n",
    "$\\Gamma^{\\nu_e \\nu_\\ell \\bar{\\nu}_\\ell} = \\frac{G_F^2}{96\\pi^3}|U_{eN}|^2 m_N^5.  $\n",
    "\n",
    "$N \\to P \\nu_e$: with a neutral pseudoscalar meson $P = \\pi^0, K^0, \\eta, \\eta'$. The decay width is\n",
    "\n",
    "\n",
    "$\\Gamma^{P\\nu_e} = \\frac{G_F^2 m_N^3}{32\\pi} f_P^2 |U_{eN}|^2(1 - x_P^2)^2, $\n",
    "\n",
    "with the meson decay constant $f_P$ whose values we have taken from [15] and $x_P = m_P/m_N$.\n",
    "\n",
    "$N \\to P^+ e^-$: with a charged pseudoscalar meson $ P^+ = \\pi^+, K^+, D^+, D_s^+$. The decay width is \n",
    "\n",
    "$\\Gamma^{P^+ e^-} = \\frac{G_F^2 m_N^3}{16\\pi f_P^2} |U_{eN}|^2 |V_{qq'}|^2 \\lambda^{1/2}(1, x_P^2, x_e^2) \\left[ 1 - x_P^2 - x_e^2(2 + x_P^2 - x_e^2) \\right]. $\n",
    "\n",
    "where $V_{qq'}$ denotes the CKM mixing matrix element involving relevant quarks in the produced meson and $\\lambda(a, b, c) \\equiv (a - b - c)^2 - 4bc$.\n",
    "\n",
    "$N \\to V \\nu_e$: with a neutral vector meson $V = \\rho, \\omega, \\phi, K^{*0}$. The decay width can be written as\n",
    "\n",
    "$\\Gamma^{V\\nu_e} = \\frac{G_F^2 m_N^3}{32\\pi m_V^2} f_V^2 \\kappa_V^2 |U_{eN}|^2 (1 + 2x_V^2)(1 - x_V^2)^2$\n",
    "\n",
    "where $f_V$ and $\\kappa_V$ represent the decay constant and the vector coupling associated with the produced neutral vector mesons, respectively.\n",
    "\n",
    "$N \\to V^+ e^-$: with a charged vector meson $V^+ = \\rho^+, K^{*+}$. The decay width can be written as\n",
    "\n",
    "$\\Gamma^{V^+ e^-} = \\frac{G_F^2 m_N^3}{16\\pi m_{V^\\pm}^2} f_V^2 |U_{eN}|^2 |V_{qq'}|^2 \\lambda^{1/2}(1, x_V^2, x_e^2) \\left[ (1 - x_V^2)(1 + 2x_V^2) + x_e^2(x_V^2 + x_e^2 - 2) \\right]. $\n",
    "\n",
    "\n",
    "The total decay width for a Majorana HNL decaying into purely SM particles is then\n",
    "\n",
    "$\\Gamma^{N \\to \\text{SM}} =  \\sum_\\ell \\Gamma^{\\nu_e \\ell^- \\ell^+} + 2\\sum_{\\ell=\\mu,\\tau} \\Gamma^{e^- \\ell^+ \\nu_\\ell} + \\sum_\\ell \\Gamma^{\\nu_e \\nu_\\ell \\bar{\\nu}_\\ell}  $\n",
    "\n",
    "\n",
    "$+ \\sum_P \\Gamma^{P\\nu_e} + 2\\sum_P \\Gamma^{P^+ e^-} + \\sum_V \\Gamma^{V\\nu_e} + \\sum_V 2\\Gamma^{V^+ e^-}.$\n",
    "\n",
    "\n",
    "The factors of two are due to the Majorana HNL decaying into opposite charge combinations, e.g., $\\Gamma^{P^- e^+} = \\Gamma^{P^+ e^-}$.\n",
    "\n",
    "\n",
    "\n"
   ]
  },
  {
   "cell_type": "code",
   "execution_count": 1451,
   "metadata": {},
   "outputs": [],
   "source": [
    "#Full Version of N-> SM\n",
    "sin2w = 0.23126\n",
    "\n",
    "cosw2 = 1 - sin2w\n",
    "\n",
    "def L_func(x):\n",
    "    \"\"\"Eq. (2.13)\"\"\"\n",
    "    return np.log((1 - 3*x**2 - (1-x**2) * (np.sqrt(1 - 4*x**2))) / (x**2 * (1 + np.sqrt(1 - 4*x**2))))\n",
    "\n",
    "def f1(x):\n",
    "    \"\"\"Eq. (2.12), first Bessel term\"\"\"\n",
    "    sqrt = np.sqrt(1 - 4*x**2)\n",
    "    return (1 - 14*x**2 - 2*x**4 - 12*x**6)*sqrt + 12*x**4*(x**4 - 1)*L_func(x)\n",
    "\n",
    "def f2(x):\n",
    "    \"\"\"Eq. (2.12), second Bessel term\"\"\"\n",
    "    sqrt = np.sqrt(1 - 4*x**2)\n",
    "    return 4*( x**2*(2 + 10*x**2 - 12*x**4)*sqrt + 6*x**4*(1 - 2*x**2 + 2*x**4)*L_func(x) )\n",
    "\n",
    "def gamma_nu_ll(m_N, me, mixing_parameter_squared):\n",
    "    \"\"\"Eq. (2.10), N → ν_e ℓ⁻ ℓ⁺\"\"\"\n",
    "    x = me/m_N\n",
    "    C1 = 0.25*(1 - 4*sin2w + 8*sin2w**2)\n",
    "    C2 = 0.5*(-sin2w + 2*sin2w**2)\n",
    "    return mixing_parameter_squared * (fermi_constant**2 * m_N**5)/(96*np.pi**3) * ( (C1+2*sin2w)*f1(x) + (C2+sin2w)*f2(x) )\n",
    "\n",
    "def gamma_e_l_nu(m_N, ml, mixing_parameter_squared):\n",
    "    \"\"\"Eq. (2.14), N → e⁻ ℓ⁺ νℓ\"\"\"\n",
    "    x = ml/m_N\n",
    "    return mixing_parameter_squared * (fermi_constant**2 * m_N**5)/(192*np.pi**3) * (1 - 8*x**2 + 8*x**6 - x**8 - 12*x**4*np.log(x**2))\n",
    "\n",
    "def gamma_3nu(m_N, mixing_parameter_squared):\n",
    "    \"\"\"Eq. (2.15), N → ν ν ν\"\"\"\n",
    "    return mixing_parameter_squared * (fermi_constant**2 * m_N**5)/(96*np.pi**3)\n",
    "\n",
    "#Idea solve my running through the indexes of the array ie array[i]\n",
    "def gamma_P_nu(m_N, mP, fP, mixing_parameter_squared):\n",
    "    \"\"\"Eq. (2.16), N → P⁰ ν\"\"\"\n",
    "    xP = mP/m_N\n",
    "    return mixing_parameter_squared * ((fermi_constant**2 * m_N**3 * fP**2)/(32*np.pi)) * (1 - xP**2)**2\n",
    "\n",
    "def gamma_Pp_e(m_N, mP, fP, Vqq, mixing_parameter_squared):\n",
    "    \"\"\"Eq. (2.17), N → P⁺ e⁻\"\"\"\n",
    "    xP = mP/m_N\n",
    "    xe = 0  # assume m_e negligible\n",
    "    lam = (1 - xP**2 - xe**2)**2 - 4*xP**2*xe**2\n",
    "    return mixing_parameter_squared * (fermi_constant**2 * m_N**3 * fP**2 * Vqq**2)/(16*np.pi) * np.sqrt(lam) * ((1 - xP**2)**2 - xe**2*(2 + xP**2 - xe**2))\n",
    "\n",
    "def gamma_V_nu(m_N, mV, fV, kappaV, mixing_parameter_squared):\n",
    "    \"\"\"Eq. (2.18), N → V⁰ ν\"\"\"\n",
    "    xV = mV/m_N\n",
    "    return mixing_parameter_squared * (fermi_constant**2 * m_N**3 * fV**2 * kappaV**2)/(32*np.pi * mV**2) * (1 + 2*xV**2)*(1 - xV**2)**2\n",
    "\n",
    "def gamma_Vp_e(m_N, mV, fV, Vqq, mixing_parameter_squared):\n",
    "    \"\"\"Eq. (2.19), N → V⁺ e⁻\"\"\"\n",
    "    xV = mV/m_N\n",
    "    xe = 0\n",
    "    lam = (1 - xV**2 - xe**2)**2 - 4*xV**2*xe**2\n",
    "    return mixing_parameter_squared * (fermi_constant**2 * m_N**3 * fV**2 * Vqq**2)/(16*np.pi * mV**2) * np.sqrt(lam) * ((1 - xV**2)*(1 + 2*xV**2) + xe**2*(xV**2 + xe**2 - 2))\n",
    "\n",
    "def gamma_N_to_SM(m_N, mixing_parameter_squared):\n",
    "    \"\"\"Eq. (2.20): sum over all open SM channels.\"\"\"\n",
    "    g = 0.\n",
    "    # leptonic\n",
    "    for mℓ in [0.000511] :  # lepton masses in GeV, due to the square root of the equation only the electron is possible \n",
    "        g += gamma_nu_ll(m_N, mℓ, mixing_parameter_squared)\n",
    "    for mℓ in [0.1057, 1.777]:\n",
    "        g += 2*gamma_e_l_nu(m_N, mℓ, mixing_parameter_squared)\n",
    "    g += 3*gamma_3nu(m_N, mixing_parameter_squared) # for each of the 3 possible neutrino generations\n",
    "    # pseudoscalars neutral, good trial\n",
    "    pseudoscalar_neutral_mesons = [\n",
    "        {'m':0.1349766, 'f':0.13},  # pion_neutral\n",
    "        {'m':0.497614 , 'f':0.156},  # kaon neutral \n",
    "        {'m':0.547862 , 'f':0.1647},   #eta\n",
    "        {'m':0.95778 , 'f':0.1529},   #eta prime\n",
    "        \n",
    "    ]\n",
    "    for P in pseudoscalar_neutral_mesons:\n",
    "        g += gamma_P_nu(m_N, P['m'], P['f'], mixing_parameter_squared)\n",
    "        \n",
    "        #g += 2*gamma_Pp_e(m_N, P['m'], P['f'], P['CKM'], mixing_parameter_squared)\n",
    "    # vector mesons (example)\n",
    "    pseudoscalar_charged_mesons = [\n",
    "        {'m':0.13957, 'f':0.1307, 'CKM':0.974}, #pion charged, CKM: |V_ud|\n",
    "        {'m':0.493677, 'f':0.1598, 'CKM': 0.225}, #kaon charged CKM: |V_us|\n",
    "        {'m':1.86961, 'f':0.2226, 'CKM':0.225}, # D meson charged |V_cd|\n",
    "        {'m':1.96830, 'f':0.266, 'CKM':0.973}, # D strange meson charged \n",
    "    ]\n",
    "    \n",
    "    for P in pseudoscalar_charged_mesons:\n",
    "        g += 2*gamma_Pp_e(m_N, P['m'], P['f'], P['CKM'], mixing_parameter_squared)\n",
    "    \n",
    "        \n",
    "    vector_neutral_mesons = [\n",
    "        {'m':0.77526, 'f':0.229, 'kappa':0.077 }, # rho neutral meson Come back and check this one\n",
    "        {'m':0.78265, 'f':0.195, 'kappa':0.077}, #omega vector meson\n",
    "        {'m':1.019461, 'f':0.229, 'kappa': -0.1729}, #phi vector meson\n",
    "        {'m':0.89581, 'f':0.217,'kappa': -0.1729}, # kaon_star_neutral meson\n",
    "    ]\n",
    "    \n",
    "    for V in vector_neutral_mesons:\n",
    "        g += gamma_V_nu(m_N, V['m'], V['f'], V['kappa'], mixing_parameter_squared)\n",
    "        \n",
    "    vector_charged_mesons = [\n",
    "        {'m': 0.77511, 'f':0.220, 'CKM':0.974 },  #rho charged meson V_ud\n",
    "        {'m':0.89166, 'f':0.217, 'CKM':0.225 },  #kaon_star_charged meson V_us\n",
    "\n",
    "    ]\n",
    "        \n",
    "    for V in vector_charged_mesons:\n",
    "        #g += gamma_V_nu(m_N, V['m'], V['f'], V['kappa'], mixing_parameter_squared)\n",
    "        g += 2*gamma_Vp_e(m_N, V['m'], V['f'], V['CKM'], mixing_parameter_squared)\n",
    "    return g\n",
    "\n"
   ]
  },
  {
   "cell_type": "markdown",
   "metadata": {},
   "source": [
    "The vector coupling of 2.18 were obtained from \"The Search for Heavy Majorana Neutrinos\"\n",
    "\n",
    " $\\kappa_V$ is the vector coupling associated with the meson and is expressed in terms of $x_w = \\sin^2\\theta_w$, where $\\theta_w$ is the Weinberg angle. The values of $\\kappa$ for the various vector mesons are: $\\kappa = \\frac{1}{3}x_w$ for $\\rho^0$ and $\\omega$; $\\kappa = \\left(-\\frac{1}{4} + \\frac{1}{3}x_w\\right)$ for $K^{*0}, \\bar{K}^{*0}$ and $\\phi$; and $\\kappa = \\left(\\frac{1}{4} - \\frac{2}{3}x_w\\right)$ for $D^{*0}, \\bar{D}^{*0}$ and $J/\\psi$.\n",
    "\n",
    " sin2w = 0.23126\n",
    "\n"
   ]
  },
  {
   "cell_type": "markdown",
   "metadata": {},
   "source": [
    "Thermally Averaged Cross-Section Density Equation 3.4 Deppisch et al 2024.\n",
    "\n",
    "$\\gamma_{X_1 X_2 \\leftrightarrow Y_1 Y_2} = \\frac{T}{64 \\pi^4} \\int^{\\infty}_{s_{min}} s^{\\frac{1}{2}} \\hat{\\sigma} (s) K_1 (\\frac{\\sqrt{s}}{T}) ds$"
   ]
  },
  {
   "cell_type": "markdown",
   "metadata": {},
   "source": [
    "rewritten in terms of"
   ]
  },
  {
   "cell_type": "markdown",
   "metadata": {},
   "source": [
    "$T = \\frac{m_N}{z}$"
   ]
  },
  {
   "cell_type": "markdown",
   "metadata": {},
   "source": [
    "$\\gamma_{X_1 X_2 \\leftrightarrow Y_1 Y_2} = \\frac{m_N}{64 z \\pi^4} \\int^{\\infty}_{s_{min}} s^{\\frac{1}{2}} \\hat{\\sigma} (s) K_1 (\\frac{ z \\sqrt{s}}{m_N}) ds$"
   ]
  },
  {
   "cell_type": "markdown",
   "metadata": {},
   "source": [
    "Where $\\hat{\\sigma} (s) = 2 s \\sigma (s) \\lambda (1, {m_{X_{1}}}^{2} /{s}, {m_{X_{2}}}^{2} / {s})$ is the reduced cross-section"
   ]
  },
  {
   "cell_type": "markdown",
   "metadata": {},
   "source": [
    "Where $\\lambda (a,b,c) = (a-b-c)^2  -4bc$ \n",
    "\n",
    "The minimum value of the integral is defined as\n",
    "\n",
    "$s_{min} = Max[(m_{X_1} + m_{X_2})^2 , (m_{Y_1} + m_{Y_2})^2]$"
   ]
  },
  {
   "cell_type": "code",
   "execution_count": 1452,
   "metadata": {},
   "outputs": [],
   "source": [
    "def lambda_func(a, b, c):\n",
    "        return (a - b - c)**2 - 4*b*c"
   ]
  },
  {
   "cell_type": "code",
   "execution_count": 1453,
   "metadata": {},
   "outputs": [],
   "source": [
    "def reduced_sigma(s):\n",
    "\n",
    "        sigma_val = cross_section_aa_vN(m_N, m_a, mixing_parameter_squared, s, f_a)\n",
    "        \n",
    "\n",
    "        lam = lambda_func(1, m_a**2/s, m_a**2/s)\n",
    "  \n",
    "        return 2 * s * sigma_val * lam"
   ]
  },
  {
   "cell_type": "markdown",
   "metadata": {},
   "source": [
    "Starting with the $aa \\rightarrow \\nu N (N)$ process - A.7 of Deppisch et al 2024.\n",
    "\n",
    "The cross-section is defined as\n",
    "$\\sigma_{a a \\to \\nu N (N)} = \\frac{2 m_N^4 \\sqrt{s - 4 m_a^2} U_{eN}^2}{\\pi f_a^4 s^{3/2}} \\left[ - \\frac{2(2m_a^4 - 7m_a^2 m_N^2 + 5m_N^4 + m_N^2 s)}{m_a^4 - 2m_a^2 m_N^2 + m_N^4 + m_N^2 s} + \\frac{4(2m_a^2 - 4m_N^2 - s) \\coth^{-1}\\left(\\frac{2(m_a^2 - m_N^2) - s}{\\sqrt{s - 4m_a^2}\\sqrt{s}}\\right)}{\\sqrt{s - 4m_a^2}\\sqrt{s}} \\right]$\n"
   ]
  },
  {
   "cell_type": "code",
   "execution_count": 1454,
   "metadata": {},
   "outputs": [],
   "source": [
    "def cross_section_aa_vN(m_N, m_a,mixing_parameter_squared,s, f_a): #A.7 of paper\n",
    "    # 'with' block for temporary high precision.\n",
    "    with mpmath.workdps(50):\n",
    "        #all relevant inputs changed to mpmath high-precision floats to ensure enough precision for Acoth term stability in integral\n",
    "        s_mp, ma_mp, mn_mp = mpmath.mpf(s), mpmath.mpf(m_a), mpmath.mpf(m_N)\n",
    "        fa_mp = mpmath.mpf(f_a)\n",
    "        mix_sq_mp = mpmath.mpf(mixing_parameter_squared)\n",
    "        mnu_mp = mn_mp * mix_sq_mp\n",
    "\n",
    "        if s_mp <= (mn_mp + mnu_mp)**2:\n",
    "            return 0.0\n",
    "    \n",
    "        sqrt_s_minus_4ma2 = np.sqrt(s_mp - 4 * ma_mp**2)\n",
    "        sqrt_s = np.sqrt(s_mp)\n",
    "        # prefactor\n",
    "        prefactor_numerator = 2*mn_mp**4 * sqrt_s_minus_4ma2 * mixing_parameter_squared\n",
    "        prefactor_denominator = np.pi*fa_mp**4 *s_mp**1.5\n",
    "        prefactor = prefactor_numerator/prefactor_denominator\n",
    "        termA_numerator = -2*(2*ma_mp**4 - 7*ma_mp**2 * mn_mp**2 + 5*mn_mp**4 + mn_mp**2 *s_mp)\n",
    "        termA_denominator = ma_mp**4 - 2*ma_mp**2 *mn_mp**2 + mn_mp**4 + mn_mp**2 *s_mp\n",
    "        termA = termA_numerator/ termA_denominator\n",
    "        coth_term_numerator = 2*(ma_mp**2 - mn_mp**2) - s_mp\n",
    "        coth_term_denominator = sqrt_s_minus_4ma2 *sqrt_s\n",
    "        coth_term = mpmath.acoth(coth_term_numerator/coth_term_denominator)\n",
    "        termB_numerator = 4*(2*ma_mp**2 - 4*mn_mp**2 -s)*coth_term\n",
    "        termB_denominator = sqrt_s_minus_4ma2 * sqrt_s\n",
    "        termB = termB_numerator/termB_denominator\n",
    "        cross_section = prefactor*(termA + termB)\n",
    "    return cross_section"
   ]
  },
  {
   "cell_type": "markdown",
   "metadata": {},
   "source": [
    "Next the $aa \\rightarrow \\nu N (\\nu)$ process - A.7 of Deppisch et al 2024.\n",
    "\n",
    "\n",
    "$\\sigma_{aa\\nu N} = \\frac{4m_N^4 \\sqrt{s-4m_a^2} U_{eN}^6}{\\pi f_a^4 s^{3/2}} \\left[ -2 + \\frac{m_N^2}{m_a^2} + \\frac{2(s-2m_a^2)\\coth^{-1}\\left(\\frac{s-2m_a^2}{\\sqrt{s-4m_a^2}\\sqrt{s}}\\right)}{\\sqrt{s-4m_a^2}\\sqrt{s}} \\right]$\n"
   ]
  },
  {
   "cell_type": "code",
   "execution_count": 1455,
   "metadata": {},
   "outputs": [],
   "source": [
    "def cross_section_aa_vN_v_med(m_N, m_a,mixing_parameter_squared,s, f_a): #A.10 of paper\n",
    "    \n",
    "    # 'with' block for temporary high precision.\n",
    "    with mpmath.workdps(50):\n",
    "        #all relevant inputs changed to mpmath high-precision floats to ensure enough precision for Acoth term stability in integral\n",
    "        s_mp, ma_mp, mn_mp = mpmath.mpf(s), mpmath.mpf(m_a), mpmath.mpf(m_N)\n",
    "        fa_mp = mpmath.mpf(f_a)\n",
    "        mix_sq_mp = mpmath.mpf(mixing_parameter_squared)\n",
    "        mnu_mp = mn_mp * mix_sq_mp\n",
    "\n",
    "        if s_mp <= (mn_mp + mnu_mp)**2:\n",
    "            return 0.0\n",
    "\n",
    "        sqrt_s = mpmath.sqrt(s_mp)\n",
    "        sqrt_s_minus_4ma2 = mpmath.sqrt(s_mp - 4 * ma_mp**2)\n",
    "\n",
    "        prefactor_num = 4 * mn_mp**4 * sqrt_s_minus_4ma2 * mix_sq_mp**3\n",
    "        prefactor_den = mpmath.pi * fa_mp**4 * s_mp**1.5\n",
    "        prefactor = prefactor_num / prefactor_den\n",
    "        \n",
    "        termA = mn_mp**2 / ma_mp**2\n",
    "        \n",
    "        acoth_num = s_mp - 2 * ma_mp**2\n",
    "        acoth_den = sqrt_s_minus_4ma2 * sqrt_s\n",
    "        acoth_term = mpmath.acoth(acoth_num / acoth_den)\n",
    "\n",
    "        termB_num = 2 * (s_mp - 2 * ma_mp**2) * acoth_term\n",
    "        termB_den = sqrt_s_minus_4ma2 * sqrt_s\n",
    "        termB = termB_num / termB_den\n",
    "\n",
    "        cross_section = prefactor * (-2 + termA + termB)\n",
    "    \n",
    "    # Return a standard float, as required by scipy.quad\n",
    "    return float(cross_section)"
   ]
  },
  {
   "cell_type": "markdown",
   "metadata": {},
   "source": [
    "Now Implementing the cross-section A.8 for Deppisch et al 2024\n",
    "\n",
    "$\n",
    "\\sigma_{aaNN} = \\frac{4m_N^4 \\sqrt{s - 4m_a^2} U_{eN}^4}{\\pi f_a^4 s^{3/2}} \\left[ - \\frac{2m_a^4 - 4m_a^2 m_N^2 + 4m_N^4 - m_N^2 s}{m_a^4 - 2m_a^2 m_N^2 + m_N^4 + m_N^2 s} + \\frac{2(m_a^2 + m_N^2 - s) \\coth^{-1}\\left( \\frac{2(m_a^2 + m_N^2) - s}{\\sqrt{s - 4m_a^2}\\sqrt{s - 4m_N^2}} \\right)}{\\sqrt{s - 4m_a^2}\\sqrt{s - 4m_N^2}} \\right]\n",
    "$"
   ]
  },
  {
   "cell_type": "code",
   "execution_count": 1456,
   "metadata": {},
   "outputs": [],
   "source": [
    "def cross_section_aa_NN(m_N,m_a,mixing_parameter_squared, s, f_a):\n",
    "    \n",
    "    # Check kinematic thresholds\n",
    "    if s <= (2 * m_N)**2:\n",
    "        return 0.0\n",
    "    \n",
    "    \n",
    "    sqrt_s_minus_4ma2 = np.sqrt(s - 4 * m_a**2)\n",
    "    sqrt_s_minus_4mN2 = np.sqrt(s - 4 * m_N**2)\n",
    "    \n",
    "    prefactor_numerator = 4*m_N**4 *sqrt_s_minus_4ma2 * mixing_parameter_squared**2\n",
    "    prefactor_denominator = np.pi*f_a**4 *s**1.5\n",
    "    prefactor = prefactor_numerator/prefactor_denominator\n",
    "    termA_numerator = -(2*m_a**4 - 4*m_a**2 *m_N**2 + 4*m_N**4 -m_N**2 *s)\n",
    "    termA_denominator = m_a**4 - 2*m_a**2 * m_N**2 + m_N**4 + m_N**2 *s\n",
    "    termA = termA_numerator/termA_denominator\n",
    "    acoth_numerator = 2*(m_a**2 + m_N**2) - s \n",
    "    acoth_denominator = sqrt_s_minus_4ma2*sqrt_s_minus_4mN2\n",
    "    acoth_term = mpmath.acoth(acoth_numerator/acoth_denominator)\n",
    "    termB_numerator = 2*(m_a**2 + m_N**2- s)*acoth_term \n",
    "    termB_denominator = sqrt_s_minus_4ma2*sqrt_s_minus_4mN2\n",
    "    termB = termB_numerator/termB_denominator \n",
    "    cross_section = prefactor*(termA + termB)\n",
    "    return cross_section"
   ]
  },
  {
   "cell_type": "code",
   "execution_count": 1457,
   "metadata": {},
   "outputs": [],
   "source": [
    "def gamma_aa_vN(z, m_N, m_a, mixing_parameter_squared, f_a):\n",
    "#HNL mediated process\n",
    "   \n",
    "    s_min = max((2*m_a)**2, (2*m_N)**2)\n",
    "\n",
    "    #s_max = (100*(m_N/z))**2  # Safe upper bound where K₁ decays sufficiently\n",
    "    s_max = np.inf\n",
    "\n",
    "\n",
    "    def lambda_func(a, b, c):\n",
    "        return (a - b - c)**2 - 4*b*c\n",
    "    \n",
    "\n",
    "    def reduced_sigma(s):\n",
    "\n",
    "        sigma_val = cross_section_aa_vN(m_N, m_a, mixing_parameter_squared, s, f_a)\n",
    "        \n",
    "\n",
    "        lam = lambda_func(1, m_a**2/s, m_a**2/s)\n",
    "  \n",
    "        return 2 * s * sigma_val * lam\n",
    "    \n",
    "\n",
    "    def integrand(s):\n",
    "        # Handle snear zero to avoid numerical issues\n",
    "        if s <= 0:\n",
    "            return 0.0\n",
    "        return np.sqrt(s) * reduced_sigma(s) * k1(np.sqrt(s)/(m_N/z))\n",
    "    \n",
    "\n",
    "    # below format ignores error value as integrand produces result and error\n",
    "    integral, _ = quad(integrand, s_min, s_max, \n",
    "                      epsabs=1e-9, epsrel=1e-6, \n",
    "                      limit=1000)\n",
    "    \n",
    "\n",
    "    gamma = ((m_N/z) / (64 * np.pi**4)) * integral\n",
    "    return gamma\n"
   ]
  },
  {
   "cell_type": "markdown",
   "metadata": {},
   "source": [
    "Same as above for the light neutrino mediated process, I will go back and combine them to make the code more efficient later."
   ]
  },
  {
   "cell_type": "code",
   "execution_count": 1458,
   "metadata": {},
   "outputs": [],
   "source": [
    "def gamma_aa_vN_v_med(z, m_N, m_a, mixing_parameter_squared, f_a):\n",
    "\n",
    "    \n",
    "    #s_min = (m_N + m_nu)**2\n",
    "    s_max = np.inf\n",
    "    s_min = max((2*m_a)**2, (2*m_N)**2)\n",
    "\n",
    "    #s_max = (100*(m_N/z))**2  # Safe upper bound where K₁ decays sufficiently\n",
    "    \n",
    "    \n",
    "\n",
    "    def lambda_func(a, b, c):\n",
    "        return (a - b - c)**2 - 4*b*c\n",
    "    \n",
    "\n",
    "    def reduced_sigma(s):\n",
    "\n",
    "        sigma_val = cross_section_aa_vN_v_med(m_N, m_a, mixing_parameter_squared, s, f_a)\n",
    "        \n",
    "\n",
    "        lam = lambda_func(1, m_a**2/s, m_a**2/s)\n",
    "  \n",
    "        return 2 * s * sigma_val * lam\n",
    "    \n",
    "\n",
    "    def integrand(s):\n",
    "        # Handle snear zero to avoid numerical issues\n",
    "        if s <= 0:\n",
    "            return 0.0\n",
    "        return np.sqrt(s) * reduced_sigma(s) * k1(np.sqrt(s)/(m_N/z))\n",
    "    \n",
    "\n",
    "    # below format ignores error value as integrand produces result and error\n",
    "    integral, _ = quad(integrand, s_min, s_max, \n",
    "                      epsabs=1e-9, epsrel=1e-6, \n",
    "                      limit=1000)\n",
    "    \n",
    "\n",
    "    gamma = ((m_N/z) / (64 * np.pi**4)) * integral\n",
    "    return gamma\n"
   ]
  },
  {
   "cell_type": "code",
   "execution_count": 1459,
   "metadata": {},
   "outputs": [],
   "source": [
    "def gamma_aa_NN(z, m_N, m_a, mixing_parameter_squared, f_a):\n",
    "\n",
    "   \n",
    "    #s_min = max((4.1*m_a)**2, (4.1*m_N)**2)\n",
    "    #s_min = s_threshold = 4 * m_N**2\n",
    "    s_min = max((2*m_a)**2, (2*m_N)**2)\n",
    "    \n",
    "    \n",
    "    s_max = np.inf\n",
    "    \n",
    "\n",
    "    def lambda_func(a, b, c):\n",
    "        return (a - b - c)**2 - 4*b*c\n",
    "    \n",
    "\n",
    "    def reduced_sigma(s):\n",
    "\n",
    "        sigma_val = cross_section_aa_NN(m_N, m_a, mixing_parameter_squared, s, f_a)\n",
    "        \n",
    "        #print(sigma_val, 'sigma_val')\n",
    "        lam = lambda_func(1, m_a**2/s, m_a**2/s)\n",
    "        #print(lam, 'lam')\n",
    "  \n",
    "        return 2 * s * sigma_val * lam\n",
    "    \n",
    "\n",
    "    def integrand(s):\n",
    "        # Handle snear zero to avoid numerical issues\n",
    "        if s <= 0:\n",
    "            return 0.0\n",
    "        return np.sqrt(s) * reduced_sigma(s) * k1(np.sqrt(s)/(m_N/z))\n",
    "    \n",
    "\n",
    "    # below format ignores error value as integrand produces result and error\n",
    "    integral, _ = quad(integrand, s_min, s_max)\n",
    "    #print(integral, 'integral') # problem with this integral\n",
    "\n",
    "    gamma = ((m_N/z) / (64 * np.pi**4)) * integral\n",
    "\n",
    "    \n",
    "    return gamma\n"
   ]
  },
  {
   "cell_type": "markdown",
   "metadata": {},
   "source": [
    "Baumann Cosmology Equation 3.55"
   ]
  },
  {
   "cell_type": "markdown",
   "metadata": {},
   "source": [
    "Hubble Parameter $H^2 = \\frac{\\pi^2}{90} g_* \\frac{T^4}{M_{pl}^{2}}$ \n",
    "$\\rightarrow H = \\frac{\\pi}{M_{pl}} * \\sqrt{\\frac{g_*}{90}}* (\\frac{m_N}{z})^2$"
   ]
  },
  {
   "cell_type": "code",
   "execution_count": 1460,
   "metadata": {},
   "outputs": [],
   "source": [
    "def H(z):\n",
    "    H = (np.pi/M_pl)*(np.sqrt(g_star/90))*((m_N/z)**2)\n",
    "    return H"
   ]
  },
  {
   "cell_type": "markdown",
   "metadata": {},
   "source": [
    "Entropy Density - Baumann 3.50"
   ]
  },
  {
   "cell_type": "markdown",
   "metadata": {},
   "source": [
    "$s = \\Sigma_i \\frac{\\rho_i + P_i}{T} = \\frac{2 \\pi^2}{45}*g_{*s}(T)*T^3$"
   ]
  },
  {
   "cell_type": "markdown",
   "metadata": {},
   "source": [
    "$s = \\frac{2 \\pi^2}{45}*g_{*s} * (\\frac{m_N}{z})^3 $"
   ]
  },
  {
   "cell_type": "code",
   "execution_count": 1461,
   "metadata": {},
   "outputs": [],
   "source": [
    "gamma_N_av_n_N_eq_ratio_list = [] \n",
    "gamma_a_vv_n_N_eq_ratio_list = []\n",
    "H_list = []\n",
    "gamma_aa_vN_list = []\n",
    "aa_vN_ratio_list = []\n",
    "n_a_eq_list = []\n",
    "#light neutrino mediated cross section aa -> vN (v)\n",
    "aa_vN_v_med_ratio_list = []\n",
    "#for the aa_NN process\n",
    "aa_NN_ratio_list = []\n",
    "#n->SM process\n",
    "gamma_N_SM_n_N_eq_ratio_list = []\n",
    "s_N_list = []\n",
    "Y_N_eq_list = []\n"
   ]
  },
  {
   "cell_type": "code",
   "execution_count": 1462,
   "metadata": {},
   "outputs": [],
   "source": [
    "def entropy_density(z):\n",
    "\n",
    "    for z in mass_temp_ratio:\n",
    "    \n",
    "        if z > 0.1/173.3 and z < 125.6 :\n",
    "            g_star = 106.75 \n",
    "\n",
    "        elif z > 0.1/125.6 and z < 91.2 :\n",
    "\n",
    "            g_star = 96.25\n",
    "        elif z> 0.1/91.2 and z <  80.4:\n",
    "            g_star = 95.25\n",
    "        elif z> 0.1/80.4 and z < 4.19:\n",
    "            g_star = 92.25\n",
    "        elif z> 0.1/4.19 and z < 0.1/1.777 :\n",
    "            g_star = 86.25\n",
    "        elif z>0.1/1.777 and  z < 0.1/1.29:\n",
    "            g_star = 75.75\n",
    "        elif z> 0.1/1.29 and z < 0.1/0.214 :\n",
    "            g_star = 72.25\n",
    "        elif z> 0.1/0.214 and z < 0.1/0.1396:\n",
    "            g_star = 61.75\n",
    "        elif z> 0.1/0.1396 and z < 0.1/0.135 :\n",
    "            g_star = 17.25\n",
    "        elif z> 0.1/0.135 and z < 0.1/0.1057 :\n",
    "            g_star = 15.25\n",
    "        elif z> 0.1/0.1057 and z < 0.1/0.01:\n",
    "            g_star = 14.25\n",
    "        elif z>0.1/800e-6 and z < 0.1/511e-3:\n",
    "            g_star = 10.75\n",
    "        elif z < 800e-6:\n",
    "            g_star = 3.909\n",
    "\n",
    "    return ((2*(np.pi**2))/(45))*g_star*((m_N/z)**3)\n",
    "   "
   ]
  },
  {
   "cell_type": "markdown",
   "metadata": {},
   "source": [
    "$zHs\\frac{dY_N}{dz} = -\\gamma_{NN\\to SM}^{\\text{eq}}\\left(\\frac{Y_N^2}{Y_N^{\\text{eq},2}} - 1\\right) + \\gamma_{aa\\to NN}^{\\text{eq}}\\left(\\frac{Y_a^2}{Y_a^{\\text{eq},2}} - \\frac{Y_N^2}{Y_N^{\\text{eq},2}}\\right)$\n",
    "\n",
    "$-\\gamma_{N\\to SM}\\left(\\frac{Y_N}{Y_N^{\\text{eq}}} - 1\\right) - \\gamma_{N\\to a\\nu}\\left(\\frac{Y_N}{Y_N^{\\text{eq}}} - \\frac{Y_a}{Y_a^{\\text{eq}}}\\right),$    Equation    (3.8)\n",
    "\n",
    "$zHs\\frac{dY_a}{dz} = -\\gamma_{aa\\to\\nu\\nu}^{\\text{eq}}\\left(\\frac{Y_a^2}{Y_a^{\\text{eq},2}} - 1\\right) - \\gamma_{aa\\to NN}^{\\text{eq}}\\left(\\frac{Y_a^2}{Y_a^{\\text{eq},2}} - \\frac{Y_N^2}{Y_N^{\\text{eq},2}}\\right)$\n",
    "\n",
    "$-\\gamma_{a\\to\\nu\\nu}\\left(\\frac{Y_a}{Y_a^{\\text{eq}}} - 1\\right) + \\gamma_{N\\to a\\nu}\\left(\\frac{Y_N}{Y_N^{\\text{eq}}} - \\frac{Y_a}{Y_a^{\\text{eq}}}\\right),$ Equation (3.9)\n"
   ]
  },
  {
   "cell_type": "markdown",
   "metadata": {},
   "source": [
    "However for Figure 4 of Deppisch 2024, the y axis is plotting \\\n",
    "\n",
    "$\\gamma_{X \\rightarrow Y_1 ...}/ n^{eq}_X$ \\\n",
    "Hence, in equation form this can be written simply as \n",
    "\n",
    "$\\gamma_{X \\rightarrow Y_1 ...}/ n^{eq}_X = \\frac{K_{1}}{K_{2}}\\Gamma_X  $"
   ]
  },
  {
   "cell_type": "markdown",
   "metadata": {},
   "source": [
    "Below I evaluate the cross-section Terms starting with A.7"
   ]
  },
  {
   "cell_type": "code",
   "execution_count": 1463,
   "metadata": {},
   "outputs": [],
   "source": [
    "for z in mass_temp_ratio:\n",
    "    \n",
    "    if z > 0.1/173.3 and z < 0.1/125.6 :\n",
    "      g_star = 106.75 \n",
    "\n",
    "    elif z > 0.1/125.6 and z < 0.1/91.2 :\n",
    "\n",
    "      g_star = 96.25\n",
    "    elif z> 0.1/91.2 and z < 0.1/ 80.4:\n",
    "        g_star = 95.25\n",
    "    elif z> 0.1/80.4 and z < 0.1/4.19:\n",
    "        g_star = 92.25\n",
    "    elif z> 0.1/4.19 and z < 0.1/1.777 :\n",
    "        g_star = 86.25\n",
    "    elif z>0.1/1.777 and  z < 0.1/1.29:\n",
    "        g_star = 75.75\n",
    "    elif z> 0.1/1.29 and z < 0.1/0.214 :\n",
    "        g_star = 72.25\n",
    "    elif z> 0.1/0.214 and z < 0.1/0.1396:\n",
    "        g_star = 61.75\n",
    "    elif z> 0.1/0.1396 and z < 0.1/0.135 :\n",
    "        g_star = 17.25\n",
    "    elif z> 0.1/0.135 and z < 0.1/0.1057 :\n",
    "        g_star = 15.25\n",
    "    elif z> 0.1/0.1057 and z < 0.1/0.01:\n",
    "        g_star = 14.25\n",
    "    elif z>0.1/800e-6 and z < 0.1/511e-3:\n",
    "        g_star = 10.75\n",
    "    elif z < 800e-6:\n",
    "        g_star = 3.909\n",
    "\n",
    "\n",
    "    gamma_N_av_n_N_eq_ratio_value =  decay_width_N_av(1e3,m_N,mixing_parameter_squared, m_a)*(kn(1,z)/kn(2,z))\n",
    "    gamma_N_av_n_N_eq_ratio_list.append(gamma_N_av_n_N_eq_ratio_value)\n",
    "    gamma_a_vv_n_N_eq_ratio_value = decay_width_a_vv(f_a, m_N, mixing_parameter_squared, m_a, m_nu)*(kn(1,z)/kn(2,z))\n",
    "    gamma_a_vv_n_N_eq_ratio_list.append(gamma_a_vv_n_N_eq_ratio_value)\n",
    "    #N -> SM\n",
    "    gamma_N_SM_n_N_eq_ratio_value = gamma_N_to_SM(m_N, mixing_parameter_squared) *(kn(1,z)/kn(2,z))\n",
    "    gamma_N_SM_n_N_eq_ratio_list.append(gamma_N_SM_n_N_eq_ratio_value)\n",
    "\n",
    "    H_value = H(z)\n",
    "    H_list.append(H_value)\n",
    "    gamma_aa_vN_value = gamma_aa_vN(z, m_N, m_a, mixing_parameter_squared, f_a)\n",
    "    gamma_aa_vN_list.append(gamma_aa_vN_value)\n",
    "    # Finding equilibrium species densities for the relativistic and non-relativistic regimes.\n",
    "    # For now consider z<1 (HNL case to be  to be non-relativistic)\n",
    "    # and z >1 to be relativistic\n",
    "\n",
    "    if z <= 1 :\n",
    "        n_N_eq_value =  n_X_eq_fermions(2, m_N, z) #relativistic regime (high temperature)\n",
    "    elif z > 1:\n",
    "        n_N_eq_value =  n_X_non_relativistic(2,m_N,z) #Non-Relativistic regime \n",
    "    # I redefine the number density calculator for ALPs to be in-\n",
    "    # terms of a variable x = $\\frac{z *m_a}{m_N} $ Which will allow me to plot the number densities of both species in terms of the z value \n",
    "    x = (m_a * z)/m_N\n",
    "    if x <= 1 :\n",
    "        # Relativisitic regime for ALPs. # Here we are using x = m_a / T, instead of the previous HNL mass\n",
    "        n_a_eq_value = n_X_eq_bosons(1, m_a, x)\n",
    "    elif x > 1 :\n",
    "        n_a_eq_value = n_X_non_relativistic(1,m_a, x) \n",
    "    \n",
    "    \n",
    "    n_a_eq_list.append(n_a_eq_value)\n",
    "    aa_vN_ratio_value = gamma_aa_vN_value/ n_a_eq_value\n",
    "    aa_vN_ratio_list.append(aa_vN_ratio_value)\n",
    "      #now for the light neutrino mediated process\n",
    "    gamma_aa_vN_v_med_value = gamma_aa_vN_v_med(z, m_N, m_a, mixing_parameter_squared, f_a)\n",
    "    aa_vN_v_med_ratio_value = gamma_aa_vN_v_med_value/ n_a_eq_value\n",
    "    aa_vN_v_med_ratio_list.append(aa_vN_v_med_ratio_value)\n",
    "    #for the aa->NN process\n",
    "    aa_NN_gamma_value = gamma_aa_NN(z, m_N, m_a, mixing_parameter_squared, f_a)\n",
    "    aa_NN_ratio_value = aa_NN_gamma_value / n_a_eq_value\n",
    "    #print(aa_NN_ratio_value)\n",
    "    aa_NN_ratio_list.append(aa_NN_ratio_value)\n",
    "\n",
    "    # For Boltzmann Equations\n",
    "    s_N_value = entropy_density(z)\n",
    "    s_N_list.append(s_N_value)\n",
    "    Y_N_eq_value = n_N_eq_value / s_N_value\n",
    "    Y_N_eq_list.append(Y_N_eq_value)\n",
    "\n",
    "    \n"
   ]
  },
  {
   "cell_type": "code",
   "execution_count": 1464,
   "metadata": {},
   "outputs": [
    {
     "data": {
      "image/png": "[encoded data removed]",
      "text/plain": [
       "<Figure size 640x480 with 1 Axes>"
      ]
     },
     "metadata": {},
     "output_type": "display_data"
    }
   ],
   "source": [
    "plt.loglog(mass_temp_ratio, gamma_N_av_n_N_eq_ratio_list, label = r'$\\gamma_{N \\rightarrow a \\nu }/ n_{N}^{eq}$', color = 'green')\n",
    "plt.loglog(mass_temp_ratio, gamma_a_vv_n_N_eq_ratio_list,label = r'$\\gamma_{a \\rightarrow \\nu \\nu }/ n_{a}^{eq}$', color = 'pink' )\n",
    "plt.loglog(mass_temp_ratio, H_list, label = 'H',  color = 'red' )\n",
    "plt.loglog(mass_temp_ratio, aa_vN_ratio_list, label = r'$ aa \\rightarrow \\nu N (N)$' , color = 'blue', linestyle = 'dotted')\n",
    "plt.loglog(mass_temp_ratio, aa_vN_v_med_ratio_list, label = r'$ aa \\rightarrow \\nu N (\\nu )$' , color = 'blue', linestyle = 'dashed' )\n",
    "plt.loglog(mass_temp_ratio, gamma_N_SM_n_N_eq_ratio_list, label = 'N-> SM', color = 'orange')\n",
    "plt.loglog(mass_temp_ratio, aa_NN_ratio_list, label = 'aa - > NN', color = 'blue' )\n",
    "plt.xlim(1e-4, 1e2)\n",
    "plt.ylim(1e-45, 1e-12)\n",
    "plt.title('Figure 4 Deppisch 2024')\n",
    "plt.xlabel(r\"$z = m_N /T$\")\n",
    "plt.ylabel(r'$\\gamma_{X \\rightarrow Y }/ n_{X}^{eq}$')\n",
    "plt.legend()\n",
    "plt.show()\n",
    "\n"
   ]
  },
  {
   "cell_type": "code",
   "execution_count": 1465,
   "metadata": {},
   "outputs": [],
   "source": [
    "def get_g_star(z):\n",
    "    if z > 0.1/173.3 and z < 0.1/125.6 :\n",
    "      return 106.75 \n",
    "\n",
    "    elif z > 0.1/125.6 and z < 0.1/91.2 :\n",
    "\n",
    "      return  96.25\n",
    "    elif z> 0.1/91.2 and z <  0.1/80.4:\n",
    "        return 95.25\n",
    "    elif z> 0.1/80.4 and z < 0.1/4.19:\n",
    "        return 92.25\n",
    "    elif z> 0.1/4.19 and z < 0.1/1.777 :\n",
    "        return 86.25\n",
    "    elif z>0.1/1.777 and  z < 0.1/1.29:\n",
    "        return 75.75\n",
    "    elif z> 0.1/1.29 and z < 0.1/0.214 :\n",
    "        return 72.25\n",
    "    elif z> 0.1/0.214 and z < 0.1/0.1396:\n",
    "        return 61.75\n",
    "    elif z> 0.1/0.1396 and z < 0.1/0.135 :\n",
    "        return 17.25\n",
    "    elif z> 0.1/0.135 and z < 0.1/0.1057 :\n",
    "        return 15.25\n",
    "    elif z> 0.1/0.1057 and z < 0.1/0.01:\n",
    "        return 14.25\n",
    "    elif z>0.1/800e-6 and z < 0.1/511e-3:\n",
    "        return 10.75\n",
    "    elif z < 800e-6:\n",
    "        return 3.909"
   ]
  },
  {
   "cell_type": "code",
   "execution_count": 1466,
   "metadata": {},
   "outputs": [],
   "source": [
    "def H_of_z(z):\n",
    "    \"\"\"Calculates the Hubble parameter H as a function of z.\"\"\"\n",
    "    g_star_val = get_g_star(z)\n",
    "    return (np.pi / M_pl) * (np.sqrt(g_star_val / 90)) * ((m_N / z)**2)"
   ]
  },
  {
   "cell_type": "code",
   "execution_count": 1467,
   "metadata": {},
   "outputs": [],
   "source": [
    "def Y_N_eq_of_z(z):\n",
    "    \"\"\"Calculates the equilibrium comoving yield Y_N_eq as a function of z.\"\"\"\n",
    "    g_star_val = get_g_star(z)\n",
    "    if z <= 1:\n",
    "        n_eq = n_X_eq_fermions(2, m_N, z)\n",
    "    else:\n",
    "        n_eq = n_X_non_relativistic(2, m_N, z)\n",
    "    s = ((2 * (np.pi**2)) / 45) * g_star_val * ((m_N / z)**3)\n",
    "    return n_eq / s if s > 0 else 0"
   ]
  },
  {
   "cell_type": "code",
   "execution_count": 1468,
   "metadata": {},
   "outputs": [
    {
     "ename": "TypeError",
     "evalue": "unsupported operand type(s) for *: 'float' and 'NoneType'",
     "output_type": "error",
     "traceback": [
      "\u001b[0;31m---------------------------------------------------------------------------\u001b[0m",
      "\u001b[0;31mTypeError\u001b[0m                                 Traceback (most recent call last)",
      "\u001b[1;32m/Users/janwawrzynek/Downloads/UCL/thesis/python/Thesis_code/Thesis/jupiter/Figure4_Jan.IPYNB Cell 54\u001b[0m line \u001b[0;36m2\n\u001b[1;32m     <a href='vscode-notebook-cell:/Users/janwawrzynek/Downloads/UCL/thesis/python/Thesis_code/Thesis/jupiter/Figure4_Jan.IPYNB#Y243sZmlsZQ%3D%3D?line=24'>25</a>\u001b[0m Y_initial \u001b[39m=\u001b[39m [Y_N_eq_of_z(z_init)]\n\u001b[1;32m     <a href='vscode-notebook-cell:/Users/janwawrzynek/Downloads/UCL/thesis/python/Thesis_code/Thesis/jupiter/Figure4_Jan.IPYNB#Y243sZmlsZQ%3D%3D?line=26'>27</a>\u001b[0m \u001b[39m# Solving the ODE\u001b[39;00m\n\u001b[0;32m---> <a href='vscode-notebook-cell:/Users/janwawrzynek/Downloads/UCL/thesis/python/Thesis_code/Thesis/jupiter/Figure4_Jan.IPYNB#Y243sZmlsZQ%3D%3D?line=27'>28</a>\u001b[0m sol \u001b[39m=\u001b[39m solve_ivp(\n\u001b[1;32m     <a href='vscode-notebook-cell:/Users/janwawrzynek/Downloads/UCL/thesis/python/Thesis_code/Thesis/jupiter/Figure4_Jan.IPYNB#Y243sZmlsZQ%3D%3D?line=28'>29</a>\u001b[0m     dY_dz_solver,\n\u001b[1;32m     <a href='vscode-notebook-cell:/Users/janwawrzynek/Downloads/UCL/thesis/python/Thesis_code/Thesis/jupiter/Figure4_Jan.IPYNB#Y243sZmlsZQ%3D%3D?line=29'>30</a>\u001b[0m     [z_init, z_final],\n\u001b[1;32m     <a href='vscode-notebook-cell:/Users/janwawrzynek/Downloads/UCL/thesis/python/Thesis_code/Thesis/jupiter/Figure4_Jan.IPYNB#Y243sZmlsZQ%3D%3D?line=30'>31</a>\u001b[0m     Y_initial,\n\u001b[1;32m     <a href='vscode-notebook-cell:/Users/janwawrzynek/Downloads/UCL/thesis/python/Thesis_code/Thesis/jupiter/Figure4_Jan.IPYNB#Y243sZmlsZQ%3D%3D?line=31'>32</a>\u001b[0m     method\u001b[39m=\u001b[39;49m\u001b[39m'\u001b[39;49m\u001b[39mBDF\u001b[39;49m\u001b[39m'\u001b[39;49m,\n\u001b[1;32m     <a href='vscode-notebook-cell:/Users/janwawrzynek/Downloads/UCL/thesis/python/Thesis_code/Thesis/jupiter/Figure4_Jan.IPYNB#Y243sZmlsZQ%3D%3D?line=32'>33</a>\u001b[0m     dense_output\u001b[39m=\u001b[39;49m\u001b[39mTrue\u001b[39;49;00m\n\u001b[1;32m     <a href='vscode-notebook-cell:/Users/janwawrzynek/Downloads/UCL/thesis/python/Thesis_code/Thesis/jupiter/Figure4_Jan.IPYNB#Y243sZmlsZQ%3D%3D?line=33'>34</a>\u001b[0m )\n\u001b[1;32m     <a href='vscode-notebook-cell:/Users/janwawrzynek/Downloads/UCL/thesis/python/Thesis_code/Thesis/jupiter/Figure4_Jan.IPYNB#Y243sZmlsZQ%3D%3D?line=35'>36</a>\u001b[0m z_plot \u001b[39m=\u001b[39m np\u001b[39m.\u001b[39mlogspace(np\u001b[39m.\u001b[39mlog10(z_init), np\u001b[39m.\u001b[39mlog10(z_final), \u001b[39m1000\u001b[39m)\n\u001b[1;32m     <a href='vscode-notebook-cell:/Users/janwawrzynek/Downloads/UCL/thesis/python/Thesis_code/Thesis/jupiter/Figure4_Jan.IPYNB#Y243sZmlsZQ%3D%3D?line=37'>38</a>\u001b[0m \u001b[39m# Get the solution Y(z) at the new z-points\u001b[39;00m\n",
      "File \u001b[0;32m~/Downloads/UCL/thesis/python/Thesis_code/Thesis/.venv/lib/python3.9/site-packages/scipy/integrate/_ivp/ivp.py:655\u001b[0m, in \u001b[0;36msolve_ivp\u001b[0;34m(fun, t_span, y0, method, t_eval, dense_output, events, vectorized, args, **options)\u001b[0m\n\u001b[1;32m    653\u001b[0m status \u001b[39m=\u001b[39m \u001b[39mNone\u001b[39;00m\n\u001b[1;32m    654\u001b[0m \u001b[39mwhile\u001b[39;00m status \u001b[39mis\u001b[39;00m \u001b[39mNone\u001b[39;00m:\n\u001b[0;32m--> 655\u001b[0m     message \u001b[39m=\u001b[39m solver\u001b[39m.\u001b[39;49mstep()\n\u001b[1;32m    657\u001b[0m     \u001b[39mif\u001b[39;00m solver\u001b[39m.\u001b[39mstatus \u001b[39m==\u001b[39m \u001b[39m'\u001b[39m\u001b[39mfinished\u001b[39m\u001b[39m'\u001b[39m:\n\u001b[1;32m    658\u001b[0m         status \u001b[39m=\u001b[39m \u001b[39m0\u001b[39m\n",
      "File \u001b[0;32m~/Downloads/UCL/thesis/python/Thesis_code/Thesis/.venv/lib/python3.9/site-packages/scipy/integrate/_ivp/base.py:197\u001b[0m, in \u001b[0;36mOdeSolver.step\u001b[0;34m(self)\u001b[0m\n\u001b[1;32m    195\u001b[0m \u001b[39melse\u001b[39;00m:\n\u001b[1;32m    196\u001b[0m     t \u001b[39m=\u001b[39m \u001b[39mself\u001b[39m\u001b[39m.\u001b[39mt\n\u001b[0;32m--> 197\u001b[0m     success, message \u001b[39m=\u001b[39m \u001b[39mself\u001b[39;49m\u001b[39m.\u001b[39;49m_step_impl()\n\u001b[1;32m    199\u001b[0m     \u001b[39mif\u001b[39;00m \u001b[39mnot\u001b[39;00m success:\n\u001b[1;32m    200\u001b[0m         \u001b[39mself\u001b[39m\u001b[39m.\u001b[39mstatus \u001b[39m=\u001b[39m \u001b[39m'\u001b[39m\u001b[39mfailed\u001b[39m\u001b[39m'\u001b[39m\n",
      "File \u001b[0;32m~/Downloads/UCL/thesis/python/Thesis_code/Thesis/.venv/lib/python3.9/site-packages/scipy/integrate/_ivp/bdf.py:366\u001b[0m, in \u001b[0;36mBDF._step_impl\u001b[0;34m(self)\u001b[0m\n\u001b[1;32m    363\u001b[0m \u001b[39mif\u001b[39;00m LU \u001b[39mis\u001b[39;00m \u001b[39mNone\u001b[39;00m:\n\u001b[1;32m    364\u001b[0m     LU \u001b[39m=\u001b[39m \u001b[39mself\u001b[39m\u001b[39m.\u001b[39mlu(\u001b[39mself\u001b[39m\u001b[39m.\u001b[39mI \u001b[39m-\u001b[39m c \u001b[39m*\u001b[39m J)\n\u001b[0;32m--> 366\u001b[0m converged, n_iter, y_new, d \u001b[39m=\u001b[39m solve_bdf_system(\n\u001b[1;32m    367\u001b[0m     \u001b[39mself\u001b[39;49m\u001b[39m.\u001b[39;49mfun, t_new, y_predict, c, psi, LU, \u001b[39mself\u001b[39;49m\u001b[39m.\u001b[39;49msolve_lu,\n\u001b[1;32m    368\u001b[0m     scale, \u001b[39mself\u001b[39;49m\u001b[39m.\u001b[39;49mnewton_tol)\n\u001b[1;32m    370\u001b[0m \u001b[39mif\u001b[39;00m \u001b[39mnot\u001b[39;00m converged:\n\u001b[1;32m    371\u001b[0m     \u001b[39mif\u001b[39;00m current_jac:\n",
      "File \u001b[0;32m~/Downloads/UCL/thesis/python/Thesis_code/Thesis/.venv/lib/python3.9/site-packages/scipy/integrate/_ivp/bdf.py:43\u001b[0m, in \u001b[0;36msolve_bdf_system\u001b[0;34m(fun, t_new, y_predict, c, psi, LU, solve_lu, scale, tol)\u001b[0m\n\u001b[1;32m     41\u001b[0m converged \u001b[39m=\u001b[39m \u001b[39mFalse\u001b[39;00m\n\u001b[1;32m     42\u001b[0m \u001b[39mfor\u001b[39;00m k \u001b[39min\u001b[39;00m \u001b[39mrange\u001b[39m(NEWTON_MAXITER):\n\u001b[0;32m---> 43\u001b[0m     f \u001b[39m=\u001b[39m fun(t_new, y)\n\u001b[1;32m     44\u001b[0m     \u001b[39mif\u001b[39;00m \u001b[39mnot\u001b[39;00m np\u001b[39m.\u001b[39mall(np\u001b[39m.\u001b[39misfinite(f)):\n\u001b[1;32m     45\u001b[0m         \u001b[39mbreak\u001b[39;00m\n",
      "File \u001b[0;32m~/Downloads/UCL/thesis/python/Thesis_code/Thesis/.venv/lib/python3.9/site-packages/scipy/integrate/_ivp/base.py:154\u001b[0m, in \u001b[0;36mOdeSolver.__init__.<locals>.fun\u001b[0;34m(t, y)\u001b[0m\n\u001b[1;32m    152\u001b[0m \u001b[39mdef\u001b[39;00m\u001b[39m \u001b[39m\u001b[39mfun\u001b[39m(t, y):\n\u001b[1;32m    153\u001b[0m     \u001b[39mself\u001b[39m\u001b[39m.\u001b[39mnfev \u001b[39m+\u001b[39m\u001b[39m=\u001b[39m \u001b[39m1\u001b[39m\n\u001b[0;32m--> 154\u001b[0m     \u001b[39mreturn\u001b[39;00m \u001b[39mself\u001b[39;49m\u001b[39m.\u001b[39;49mfun_single(t, y)\n",
      "File \u001b[0;32m~/Downloads/UCL/thesis/python/Thesis_code/Thesis/.venv/lib/python3.9/site-packages/scipy/integrate/_ivp/base.py:23\u001b[0m, in \u001b[0;36mcheck_arguments.<locals>.fun_wrapped\u001b[0;34m(t, y)\u001b[0m\n\u001b[1;32m     22\u001b[0m \u001b[39mdef\u001b[39;00m\u001b[39m \u001b[39m\u001b[39mfun_wrapped\u001b[39m(t, y):\n\u001b[0;32m---> 23\u001b[0m     \u001b[39mreturn\u001b[39;00m np\u001b[39m.\u001b[39masarray(fun(t, y), dtype\u001b[39m=\u001b[39mdtype)\n",
      "\u001b[1;32m/Users/janwawrzynek/Downloads/UCL/thesis/python/Thesis_code/Thesis/jupiter/Figure4_Jan.IPYNB Cell 54\u001b[0m line \u001b[0;36m1\n\u001b[1;32m      <a href='vscode-notebook-cell:/Users/janwawrzynek/Downloads/UCL/thesis/python/Thesis_code/Thesis/jupiter/Figure4_Jan.IPYNB#Y243sZmlsZQ%3D%3D?line=7'>8</a>\u001b[0m \u001b[39mdef\u001b[39;00m\u001b[39m \u001b[39m\u001b[39mdY_dz_solver\u001b[39m(z, Y):\n\u001b[1;32m      <a href='vscode-notebook-cell:/Users/janwawrzynek/Downloads/UCL/thesis/python/Thesis_code/Thesis/jupiter/Figure4_Jan.IPYNB#Y243sZmlsZQ%3D%3D?line=8'>9</a>\u001b[0m     Y_N \u001b[39m=\u001b[39m Y[\u001b[39m0\u001b[39m]\n\u001b[0;32m---> <a href='vscode-notebook-cell:/Users/janwawrzynek/Downloads/UCL/thesis/python/Thesis_code/Thesis/jupiter/Figure4_Jan.IPYNB#Y243sZmlsZQ%3D%3D?line=12'>13</a>\u001b[0m     yield_term \u001b[39m=\u001b[39m (Y_N \u001b[39m-\u001b[39m Y_N_eq_of_z(z))\n\u001b[1;32m     <a href='vscode-notebook-cell:/Users/janwawrzynek/Downloads/UCL/thesis/python/Thesis_code/Thesis/jupiter/Figure4_Jan.IPYNB#Y243sZmlsZQ%3D%3D?line=15'>16</a>\u001b[0m     rate_term \u001b[39m=\u001b[39m Gamma_eff(z)\n\u001b[1;32m     <a href='vscode-notebook-cell:/Users/janwawrzynek/Downloads/UCL/thesis/python/Thesis_code/Thesis/jupiter/Figure4_Jan.IPYNB#Y243sZmlsZQ%3D%3D?line=17'>18</a>\u001b[0m     rhs \u001b[39m=\u001b[39m \u001b[39m-\u001b[39m(\u001b[39m1\u001b[39m \u001b[39m/\u001b[39m (z \u001b[39m*\u001b[39m H_of_z(z))) \u001b[39m*\u001b[39m rate_term \u001b[39m*\u001b[39m yield_term\n",
      "\u001b[1;32m/Users/janwawrzynek/Downloads/UCL/thesis/python/Thesis_code/Thesis/jupiter/Figure4_Jan.IPYNB Cell 54\u001b[0m line \u001b[0;36m8\n\u001b[1;32m      <a href='vscode-notebook-cell:/Users/janwawrzynek/Downloads/UCL/thesis/python/Thesis_code/Thesis/jupiter/Figure4_Jan.IPYNB#Y243sZmlsZQ%3D%3D?line=5'>6</a>\u001b[0m \u001b[39melse\u001b[39;00m:\n\u001b[1;32m      <a href='vscode-notebook-cell:/Users/janwawrzynek/Downloads/UCL/thesis/python/Thesis_code/Thesis/jupiter/Figure4_Jan.IPYNB#Y243sZmlsZQ%3D%3D?line=6'>7</a>\u001b[0m     n_eq \u001b[39m=\u001b[39m n_X_non_relativistic(\u001b[39m2\u001b[39m, m_N, z)\n\u001b[0;32m----> <a href='vscode-notebook-cell:/Users/janwawrzynek/Downloads/UCL/thesis/python/Thesis_code/Thesis/jupiter/Figure4_Jan.IPYNB#Y243sZmlsZQ%3D%3D?line=7'>8</a>\u001b[0m s \u001b[39m=\u001b[39m ((\u001b[39m2\u001b[39;49m \u001b[39m*\u001b[39;49m (np\u001b[39m.\u001b[39;49mpi\u001b[39m*\u001b[39;49m\u001b[39m*\u001b[39;49m\u001b[39m2\u001b[39;49m)) \u001b[39m/\u001b[39;49m \u001b[39m45\u001b[39;49m) \u001b[39m*\u001b[39;49m g_star_val \u001b[39m*\u001b[39m ((m_N \u001b[39m/\u001b[39m z)\u001b[39m*\u001b[39m\u001b[39m*\u001b[39m\u001b[39m3\u001b[39m)\n\u001b[1;32m      <a href='vscode-notebook-cell:/Users/janwawrzynek/Downloads/UCL/thesis/python/Thesis_code/Thesis/jupiter/Figure4_Jan.IPYNB#Y243sZmlsZQ%3D%3D?line=8'>9</a>\u001b[0m \u001b[39mreturn\u001b[39;00m n_eq \u001b[39m/\u001b[39m s \u001b[39mif\u001b[39;00m s \u001b[39m>\u001b[39m \u001b[39m0\u001b[39m \u001b[39melse\u001b[39;00m \u001b[39m0\u001b[39m\n",
      "\u001b[0;31mTypeError\u001b[0m: unsupported operand type(s) for *: 'float' and 'NoneType'"
     ]
    }
   ],
   "source": [
    "# Calculate the constant decay width Gamma (Γ) once, outside the solver function\n",
    "gamma_N_SM_width = gamma_N_to_SM(m_N, mixing_parameter_squared)\n",
    "\n",
    "def Gamma_eff(z):\n",
    " \n",
    "    return gamma_N_SM_width * (kn(1, z) / kn(2, z))\n",
    "\n",
    "def dY_dz_solver(z, Y):\n",
    "    Y_N = Y[0]\n",
    "    \n",
    "\n",
    "    \n",
    "    yield_term = (Y_N - Y_N_eq_of_z(z))\n",
    "    \n",
    "\n",
    "    rate_term = Gamma_eff(z)\n",
    "    \n",
    "    rhs = -(1 / (z * H_of_z(z))) * rate_term * yield_term\n",
    "\n",
    "\n",
    "    return [rhs]\n",
    "\n",
    "\n",
    "# Set the initial condition: Y starts in equilibrium at z_init\n",
    "Y_initial = [Y_N_eq_of_z(z_init)]\n",
    "\n",
    "# Solving the ODE\n",
    "sol = solve_ivp(\n",
    "    dY_dz_solver,\n",
    "    [z_init, z_final],\n",
    "    Y_initial,\n",
    "    method='BDF',\n",
    "    dense_output=True\n",
    ")\n",
    "\n",
    "z_plot = np.logspace(np.log10(z_init), np.log10(z_final), 1000)\n",
    "\n",
    "# Get the solution Y(z) at the new z-points\n",
    "Y_solution = sol.sol(z_plot)[0]\n",
    "\n",
    "# Calculate the equilibrium yield for comparison\n",
    "Y_eq_plot = np.array([Y_N_eq_of_z(z) for z in z_plot])\n",
    "plt.figure(figsize=(10, 6))\n",
    "plt.loglog(z_plot, Y_solution, label=r'Solved Yield $Y_N$', linewidth=2)\n",
    "plt.loglog(z_plot, Y_eq_plot, label=r'Equilibrium Yield $Y_N^{\\mathrm{eq}}$', linestyle='--', color='red')\n",
    "plt.xlabel(r\"$z = m_N /T$\")\n",
    "plt.ylabel(\"Comoving Yield Y\")\n",
    "plt.title(\"HNL Comoving Yield\")\n",
    "plt.grid(True, which=\"both\", ls=\"--\", alpha=0.6)\n",
    "plt.legend()\n",
    "plt.ylim(1e-12, 1e2)\n",
    "plt.xlim(z_init, z_final)\n",
    "plt.show()"
   ]
  },
  {
   "cell_type": "code",
   "execution_count": null,
   "metadata": {},
   "outputs": [],
   "source": [
    "gamma_N_SM_width = gamma_N_to_SM(m_N, mixing_parameter_squared)"
   ]
  },
  {
   "cell_type": "code",
   "execution_count": null,
   "metadata": {},
   "outputs": [],
   "source": [
    "gamma_N_SM_width = gamma_N_to_SM(m_N, mixing_parameter_squared)"
   ]
  },
  {
   "cell_type": "code",
   "execution_count": null,
   "metadata": {},
   "outputs": [],
   "source": [
    "# HNL equilibrium number density\n",
    "def n_N_eq(z):\n",
    "    if z <= 1:\n",
    "        return n_X_eq_fermions(2, m_N, z)  # Relativistic\n",
    "    else:\n",
    "        return n_X_non_relativistic(2, m_N, z)  # Non-relativistic"
   ]
  },
  {
   "cell_type": "code",
   "execution_count": null,
   "metadata": {},
   "outputs": [],
   "source": [
    "def gamma_N_SM_n_N_eq_ratio(z, m_N):\n",
    "    gamma_N_to_SM(m_N, mixing_parameter_squared) *(kn(1,z)/kn(2,z))"
   ]
  },
  {
   "cell_type": "code",
   "execution_count": null,
   "metadata": {},
   "outputs": [],
   "source": [
    "# HNL equilibrium yield\n",
    "def Y_N_eq(z):\n",
    "    return n_N_eq(z) / entropy_density(z)\n",
    "\n"
   ]
  },
  {
   "cell_type": "code",
   "execution_count": null,
   "metadata": {},
   "outputs": [],
   "source": []
  }
 ],
 "metadata": {
  "kernelspec": {
   "display_name": ".venv",
   "language": "python",
   "name": "python3"
  },
  "language_info": {
   "codemirror_mode": {
    "name": "ipython",
    "version": 3
   },
   "file_extension": ".py",
   "mimetype": "text/x-python",
   "name": "python",
   "nbconvert_exporter": "python",
   "pygments_lexer": "ipython3",
   "version": "3.9.6"
  },
  "orig_nbformat": 4
 },
 "nbformat": 4,
 "nbformat_minor": 2
}
