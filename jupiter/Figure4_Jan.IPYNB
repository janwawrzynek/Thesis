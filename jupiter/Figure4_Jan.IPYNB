{
 "cells": [
  {
   "cell_type": "code",
   "execution_count": 466,
   "metadata": {},
   "outputs": [],
   "source": [
    "import numpy as np\n",
    "from scipy.integrate import solve_ivp\n",
    "from scipy.special import jv, yv\n",
    "import matplotlib.pyplot as plt\n",
    "import mpmath\n",
    "from scipy.integrate import quad\n",
    "from scipy.special import kn, k1\n",
    "from scipy.special import zeta\n",
    "# Physical constants (natural units: GeV, s^-1)\n",
    "M_pl = 2.435e18          # Planck mass [GeV]\n",
    "fermi_constant = 1.166e-5           # Fermi constant [GeV^-2]\n",
    "m_N = 0.1 # HNL Mass in GeV\n",
    "m_a = 1e-6 # ALP mass in GeV\n",
    "mixing_parameter_squared = 1e-10 # active-sterile neutrino sector mixing\n",
    "f_a = 1e3 # ALP decay constant scenario 1\n",
    "\n",
    "\n",
    "#f_M = 0.1 # in GeV"
   ]
  },
  {
   "cell_type": "markdown",
   "metadata": {},
   "source": [
    "Light Neutrino Mass Deppisch 2024 \\\n",
    "$m_\\nu =  |U_{eN}|^2 m_N$\n"
   ]
  },
  {
   "cell_type": "code",
   "execution_count": 467,
   "metadata": {},
   "outputs": [],
   "source": [
    "m_nu = mixing_parameter_squared*m_N"
   ]
  },
  {
   "cell_type": "markdown",
   "metadata": {},
   "source": [
    "Particle Species Equilibrium Density in the Relativistic Limit\n",
    "\n",
    "Baumann Cosmology Equation 3.22"
   ]
  },
  {
   "cell_type": "markdown",
   "metadata": {},
   "source": [
    "$n = \\frac{\\zeta (3)}{\\pi^2} * g * (\\frac{m_N}{z})^3 $ for bosons.\n",
    "\n",
    "For fermions multiply with a prefactor of $\\frac{3}{4}$"
   ]
  },
  {
   "cell_type": "code",
   "execution_count": 468,
   "metadata": {},
   "outputs": [],
   "source": [
    "def n_X_eq_bosons(g, mass, z): #g is the degrees of freedom \n",
    "    n_eq = zeta(3) * g *( (mass/ z)**3 ) * (1/np.pi **2)\n",
    "    return n_eq"
   ]
  },
  {
   "cell_type": "code",
   "execution_count": 469,
   "metadata": {},
   "outputs": [],
   "source": [
    "def n_X_eq_fermions(g, mass, z): #g is the degrees of freedom \n",
    "    n_eq = 0.75 * zeta(3) * g *( (mass/ z)**3 ) * (1/np.pi **2)"
   ]
  },
  {
   "cell_type": "code",
   "execution_count": 470,
   "metadata": {},
   "outputs": [],
   "source": [
    "z_init = 1e-4\n",
    "z_final = 1e2\n",
    "mass_temp_ratio=  np.linspace(z_init,z_final, 100)"
   ]
  },
  {
   "cell_type": "markdown",
   "metadata": {},
   "source": [
    "Decay Width of $N \\rightarrow a \\nu$ Deppisch 2024 equation 2.21 \\\n",
    "$\\Gamma_{N \\rightarrow a \\nu} = \\frac{|U_{eN}|^2 m_{N}^3}{4 \\pi f_{a}^2} \\sqrt{1+ (\\frac{m_a}{m_N})^2}(1-(\\frac{m_a}{m_N})^2)^\\frac{3}{2}$"
   ]
  },
  {
   "cell_type": "code",
   "execution_count": 471,
   "metadata": {},
   "outputs": [],
   "source": [
    "def decay_width_N_av(f_a,m_N,mixing_parameter_squared, m_a):\n",
    "    decay_width_N_av = mixing_parameter_squared*(m_N**3)*(1/(4*np.pi*(f_a**2)))*(np.sqrt(1+ (m_a/m_N)**2))*((1-(m_a/m_N)**2)**1.5)\n",
    "    return decay_width_N_av\n"
   ]
  },
  {
   "cell_type": "markdown",
   "metadata": {},
   "source": [
    "$\\Gamma_{a \\rightarrow \\nu \\nu} = \\frac{1}{f_{a}^2} \\frac{m_{N}^2 m_a |U_{eN}|^4}{2 \\pi} \\sqrt{1 - \\frac{4 m_{\\nu}^2 }{m_{a}^2}} (1 - \\frac{2 m_{\\nu}^2}{m_{a}^2})$"
   ]
  },
  {
   "cell_type": "code",
   "execution_count": 472,
   "metadata": {},
   "outputs": [],
   "source": [
    "def decay_width_a_vv(f_a, m_N, mixing_parameter_squared, m_a, m_v):\n",
    "    decay_width_a_vv = (1/(2* np.pi * f_a**2))*m_N**2 * m_a *( mixing_parameter_squared**2) * (np.sqrt(1- (4*m_nu**2)/m_a**2)) * (1- (2*m_nu**2)/m_a**2)\n",
    "    #decay_width_a_vv = ((m_N**2 )* m_a * (mixing_parameter_squared**2))/(2* np.pi * f_a**2)\n",
    "    return decay_width_a_vv"
   ]
  },
  {
   "cell_type": "markdown",
   "metadata": {},
   "source": [
    "Below I will implement the total decay width for the N-> SM process equations 2.10-2.20 Deppisch et al 2024"
   ]
  },
  {
   "cell_type": "markdown",
   "metadata": {},
   "source": [
    "$N \\to \\nu \\ell^- \\ell^+$: mediated by charged (for $\\ell = e$) and neutral currents (for $\\ell = e, \\mu, \\tau$) corresponding decay width is (with $x_\\ell = m_\\ell / m_N$)\n",
    "\n",
    "$$\n",
    "\\Gamma^{\\nu_{e} \\ell^- \\ell^+} = |U_{eN}|^2 \\frac{G_F^2 m_N^5}{96\\pi^3} \\left[ (C_1 + 2\\sin^2\\theta_W\\delta_{e,\\ell})f_1(x_\\ell) + (C_2 + \\sin^2\\theta_W\\delta_{e,\\ell})f_2(x_\\ell) \\right]\n",
    "$$\n",
    "\n",
    "with\n",
    "\n",
    "$$\n",
    "C_1 = \\frac{1}{4}(1 - 4\\sin^2\\theta_W + 8\\sin^4\\theta_W), \\quad C_2 = \\frac{1}{2}(-\\sin^2\\theta_W + 2\\sin^4\\theta_W)\n",
    "$$\n",
    "\n",
    "and the functions are defined as\n",
    "\n",
    "$\n",
    "f_1(x) = (1 - 14x^2 - 2x^4 - 12x^6)\\sqrt{1 - 4x^2} + 12x^4(x^4 - 1)L(x)$ ,\n",
    "\n",
    "$ f_2(x) = 4\\left[x^2(2 + 10x^2 - 12x^4)\\sqrt{1 - 4x^2} + 6x^4(1 - 2x^2 + 2x^4)L(x)\\right], $\n",
    "\n",
    "\n",
    "with\n",
    "\n",
    "$$\n",
    "L(x) = \\ln\\left[ \\frac{1 - 3x^2 - (1 - x^2)\\sqrt{1 - 4x^2}}{x^2(1 + \\sqrt{1 - 4x^2})} \\right].\n",
    "$$\n",
    "\n",
    "$N \\to e^- \\ell^+ \\nu_\\ell$: mediated by a charged current with $\\ell = \\mu, \\tau$. The decay width for this process is\n",
    "$$\n",
    "\\Gamma^{e^- \\ell^+ \\nu_\\ell} = |U_{eN}|^2 \\frac{G_F^2 m_N^5}{192\\pi^3} \\left[ 1 - 8x_\\ell^2 + 8x_\\ell^6 - x_\\ell^8 - 12x_\\ell^4 \\ln(x_\\ell^2) \\right]. \\tag{2.14}\n",
    "$$\n",
    "\n",
    "$N \\to \\nu_e \\nu_\\ell \\bar{\\nu}_\\ell$: mediated by a neutral current with $\\ell = e, \\mu, \\tau$. The decay width can be written as\n",
    "\n",
    "$\\Gamma^{\\nu_e \\nu_\\ell \\bar{\\nu}_\\ell} = \\frac{G_F^2}{96\\pi^3}|U_{eN}|^2 m_N^5.  $\n",
    "\n",
    "$N \\to P \\nu_e$: with a neutral pseudoscalar meson $P = \\pi^0, K^0, \\eta, \\eta'$. The decay width is\n",
    "\n",
    "\n",
    "$\\Gamma^{P\\nu_e} = \\frac{G_F^2 m_N^3}{32\\pi} f_P^2 |U_{eN}|^2(1 - x_P^2)^2, $\n",
    "\n",
    "with the meson decay constant $f_P$ whose values we have taken from [15] and $x_P = m_P/m_N$.\n",
    "\n",
    "$N \\to P^+ e^-$: with a charged pseudoscalar meson $ P^+ = \\pi^+, K^+, D^+, D_s^+$. The decay width is \n",
    "\n",
    "$\\Gamma^{P^+ e^-} = \\frac{G_F^2 m_N^3}{16\\pi f_P^2} |U_{eN}|^2 |V_{qq'}|^2 \\lambda^{1/2}(1, x_P^2, x_e^2) \\left[ 1 - x_P^2 - x_e^2(2 + x_P^2 - x_e^2) \\right]. $\n",
    "\n",
    "where $V_{qq'}$ denotes the CKM mixing matrix element involving relevant quarks in the produced meson and $\\lambda(a, b, c) \\equiv (a - b - c)^2 - 4bc$.\n",
    "\n",
    "$N \\to V \\nu_e$: with a neutral vector meson $V = \\rho, \\omega, \\phi, K^{*0}$. The decay width can be written as\n",
    "\n",
    "$\\Gamma^{V\\nu_e} = \\frac{G_F^2 m_N^3}{32\\pi m_V^2} f_V^2 \\kappa_V^2 |U_{eN}|^2 (1 + 2x_V^2)(1 - x_V^2)^2$\n",
    "\n",
    "where $f_V$ and $\\kappa_V$ represent the decay constant and the vector coupling associated with the produced neutral vector mesons, respectively.\n",
    "\n",
    "$N \\to V^+ e^-$: with a charged vector meson $V^+ = \\rho^+, K^{*+}$. The decay width can be written as\n",
    "\n",
    "$\\Gamma^{V^+ e^-} = \\frac{G_F^2 m_N^3}{16\\pi m_{V^\\pm}^2} f_V^2 |U_{eN}|^2 |V_{qq'}|^2 \\lambda^{1/2}(1, x_V^2, x_e^2) \\left[ (1 - x_V^2)(1 + 2x_V^2) + x_e^2(x_V^2 + x_e^2 - 2) \\right]. $\n",
    "\n",
    "\n",
    "The total decay width for a Majorana HNL decaying into purely SM particles is then\n",
    "\n",
    "$\\Gamma^{N \\to \\text{SM}} =  \\sum_\\ell \\Gamma^{\\nu_e \\ell^- \\ell^+} + 2\\sum_{\\ell=\\mu,\\tau} \\Gamma^{e^- \\ell^+ \\nu_\\ell} + \\sum_\\ell \\Gamma^{\\nu_e \\nu_\\ell \\bar{\\nu}_\\ell}  $\n",
    "\n",
    "\n",
    "$+ \\sum_P \\Gamma^{P\\nu_e} + 2\\sum_P \\Gamma^{P^+ e^-} + \\sum_V \\Gamma^{V\\nu_e} + \\sum_V 2\\Gamma^{V^+ e^-}.$\n",
    "\n",
    "\n",
    "The factors of two are due to the Majorana HNL decaying into opposite charge combinations, e.g., $\\Gamma^{P^- e^+} = \\Gamma^{P^+ e^-}$.\n",
    "\n",
    "\n",
    "\n"
   ]
  },
  {
   "cell_type": "code",
   "execution_count": 473,
   "metadata": {},
   "outputs": [],
   "source": [
    "#Full Version of N-> SM\n",
    "sin2w = 0.23126\n",
    "\n",
    "cosw2 = 1 - sin2w\n",
    "\n",
    "def L_func(x):\n",
    "    \"\"\"Eq. (2.13)\"\"\"\n",
    "    return np.log((1 - 3*x**2 - (1-x**2) * (np.sqrt(1 - 4*x**2))) / (x**2 * (1 + np.sqrt(1 - 4*x**2))))\n",
    "\n",
    "def f1(x):\n",
    "    \"\"\"Eq. (2.12), first Bessel term\"\"\"\n",
    "    sqrt = np.sqrt(1 - 4*x**2)\n",
    "    return (1 - 14*x**2 - 2*x**4 - 12*x**6)*sqrt + 12*x**4*(x**4 - 1)*L_func(x)\n",
    "\n",
    "def f2(x):\n",
    "    \"\"\"Eq. (2.12), second Bessel term\"\"\"\n",
    "    sqrt = np.sqrt(1 - 4*x**2)\n",
    "    return 4*( x**2*(2 + 10*x**2 - 12*x**4)*sqrt + 6*x**4*(1 - 2*x**2 + 2*x**4)*L_func(x) )\n",
    "\n",
    "def gamma_nu_ll(m_N, me, mixing_parameter_squared):\n",
    "    \"\"\"Eq. (2.10), N → ν_e ℓ⁻ ℓ⁺\"\"\"\n",
    "    x = me/m_N\n",
    "    C1 = 0.25*(1 - 4*sin2w + 8*sin2w**2)\n",
    "    C2 = 0.5*(-sin2w + 2*sin2w**2)\n",
    "    return mixing_parameter_squared * (fermi_constant**2 * m_N**5)/(96*np.pi**3) * ( (C1+2*sin2w)*f1(x) + (C2+sin2w)*f2(x) )\n",
    "\n",
    "def gamma_e_l_nu(m_N, ml, mixing_parameter_squared):\n",
    "    \"\"\"Eq. (2.14), N → e⁻ ℓ⁺ νℓ\"\"\"\n",
    "    x = ml/m_N\n",
    "    return mixing_parameter_squared * (fermi_constant**2 * m_N**5)/(192*np.pi**3) * (1 - 8*x**2 + 8*x**6 - x**8 - 12*x**4*np.log(x**2))\n",
    "\n",
    "def gamma_3nu(m_N, mixing_parameter_squared):\n",
    "    \"\"\"Eq. (2.15), N → ν ν ν\"\"\"\n",
    "    return mixing_parameter_squared * (fermi_constant**2 * m_N**5)/(96*np.pi**3)\n",
    "\n",
    "#Idea solve my running through the indexes of the array ie array[i]\n",
    "def gamma_P_nu(m_N, mP, fP, mixing_parameter_squared):\n",
    "    \"\"\"Eq. (2.16), N → P⁰ ν\"\"\"\n",
    "    xP = mP/m_N\n",
    "    return mixing_parameter_squared * ((fermi_constant**2 * m_N**3 * fP**2)/(32*np.pi)) * (1 - xP**2)**2\n",
    "\n",
    "def gamma_Pp_e(m_N, mP, fP, Vqq, mixing_parameter_squared):\n",
    "    \"\"\"Eq. (2.17), N → P⁺ e⁻\"\"\"\n",
    "    xP = mP/m_N\n",
    "    xe = 0  # assume m_e negligible\n",
    "    lam = (1 - xP**2 - xe**2)**2 - 4*xP**2*xe**2\n",
    "    return mixing_parameter_squared * (fermi_constant**2 * m_N**3 * fP**2 * Vqq**2)/(16*np.pi) * np.sqrt(lam) * ((1 - xP**2)**2 - xe**2*(2 + xP**2 - xe**2))\n",
    "\n",
    "def gamma_V_nu(m_N, mV, fV, kappaV, mixing_parameter_squared):\n",
    "    \"\"\"Eq. (2.18), N → V⁰ ν\"\"\"\n",
    "    xV = mV/m_N\n",
    "    return mixing_parameter_squared * (fermi_constant**2 * m_N**3 * fV**2 * kappaV**2)/(32*np.pi * mV**2) * (1 + 2*xV**2)*(1 - xV**2)**2\n",
    "\n",
    "def gamma_Vp_e(m_N, mV, fV, Vqq, mixing_parameter_squared):\n",
    "    \"\"\"Eq. (2.19), N → V⁺ e⁻\"\"\"\n",
    "    xV = mV/m_N\n",
    "    xe = 0\n",
    "    lam = (1 - xV**2 - xe**2)**2 - 4*xV**2*xe**2\n",
    "    return mixing_parameter_squared * (fermi_constant**2 * m_N**3 * fV**2 * Vqq**2)/(16*np.pi * mV**2) * np.sqrt(lam) * ((1 - xV**2)*(1 + 2*xV**2) + xe**2*(xV**2 + xe**2 - 2))\n",
    "\n",
    "def gamma_N_to_SM(m_N, mixing_parameter_squared):\n",
    "    \"\"\"Eq. (2.20): sum over all open SM channels.\"\"\"\n",
    "    g = 0.\n",
    "    # leptonic\n",
    "    for mℓ in [0.000511] :  # lepton masses in GeV, due to the square root of the equation only the electron is possible \n",
    "        g += gamma_nu_ll(m_N, mℓ, mixing_parameter_squared)\n",
    "    for mℓ in [0.1057, 1.777]:\n",
    "        g += 2*gamma_e_l_nu(m_N, mℓ, mixing_parameter_squared)\n",
    "    g += 3*gamma_3nu(m_N, mixing_parameter_squared) # for each of the 3 possible neutrino generations\n",
    "    # pseudoscalars neutral, good trial\n",
    "    pseudoscalar_neutral_mesons = [\n",
    "        {'m':0.1349766, 'f':0.13},  # pion_neutral\n",
    "        {'m':0.497614 , 'f':0.156},  # kaon neutral \n",
    "        {'m':0.547862 , 'f':0.1647},   #eta\n",
    "        {'m':0.95778 , 'f':0.1529},   #eta prime\n",
    "        \n",
    "    ]\n",
    "    for P in pseudoscalar_neutral_mesons:\n",
    "        g += gamma_P_nu(m_N, P['m'], P['f'], mixing_parameter_squared)\n",
    "        \n",
    "        #g += 2*gamma_Pp_e(m_N, P['m'], P['f'], P['CKM'], mixing_parameter_squared)\n",
    "    # vector mesons (example)\n",
    "    pseudoscalar_charged_mesons = [\n",
    "        {'m':0.13957, 'f':0.1307, 'CKM':0.974}, #pion charged, CKM: |V_ud|\n",
    "        {'m':0.493677, 'f':0.1598, 'CKM': 0.225}, #kaon charged CKM: |V_us|\n",
    "        {'m':1.86961, 'f':0.2226, 'CKM':0.225}, # D meson charged |V_cd|\n",
    "        {'m':1.96830, 'f':0.266, 'CKM':0.973}, # D strange meson charged \n",
    "    ]\n",
    "    \n",
    "    for P in pseudoscalar_charged_mesons:\n",
    "        g += 2*gamma_Pp_e(m_N, P['m'], P['f'], P['CKM'], mixing_parameter_squared)\n",
    "    \n",
    "        \n",
    "    vector_neutral_mesons = [\n",
    "        {'m':0.77526, 'f':0.229, 'kappa':0.077 }, # rho neutral meson Come back and check this one\n",
    "        {'m':0.78265, 'f':0.195, 'kappa':0.077}, #omega vector meson\n",
    "        {'m':1.019461, 'f':0.229, 'kappa': -0.1729}, #phi vector meson\n",
    "        {'m':0.89581, 'f':0.217,'kappa': -0.1729}, # kaon_star_neutral meson\n",
    "    ]\n",
    "    \n",
    "    for V in vector_neutral_mesons:\n",
    "        g += gamma_V_nu(m_N, V['m'], V['f'], V['kappa'], mixing_parameter_squared)\n",
    "        \n",
    "    vector_charged_mesons = [\n",
    "        {'m': 0.77511, 'f':0.220, 'CKM':0.974 },  #rho charged meson V_ud\n",
    "        {'m':0.89166, 'f':0.217, 'CKM':0.225 },  #kaon_star_charged meson V_us\n",
    "\n",
    "    ]\n",
    "        \n",
    "    for V in vector_charged_mesons:\n",
    "        #g += gamma_V_nu(m_N, V['m'], V['f'], V['kappa'], mixing_parameter_squared)\n",
    "        g += 2*gamma_Vp_e(m_N, V['m'], V['f'], V['CKM'], mixing_parameter_squared)\n",
    "    return g\n",
    "\n"
   ]
  },
  {
   "cell_type": "markdown",
   "metadata": {},
   "source": [
    "The vector coupling of 2.18 were obtained from \"The Search for Heavy Majorana Neutrinos\"\n",
    "\n",
    " $\\kappa_V$ is the vector coupling associated with the meson and is expressed in terms of $x_w = \\sin^2\\theta_w$, where $\\theta_w$ is the Weinberg angle. The values of $\\kappa$ for the various vector mesons are: $\\kappa = \\frac{1}{3}x_w$ for $\\rho^0$ and $\\omega$; $\\kappa = \\left(-\\frac{1}{4} + \\frac{1}{3}x_w\\right)$ for $K^{*0}, \\bar{K}^{*0}$ and $\\phi$; and $\\kappa = \\left(\\frac{1}{4} - \\frac{2}{3}x_w\\right)$ for $D^{*0}, \\bar{D}^{*0}$ and $J/\\psi$.\n",
    "\n",
    " sin2w = 0.23126\n",
    "\n"
   ]
  },
  {
   "cell_type": "markdown",
   "metadata": {},
   "source": [
    "Thermally Averaged Cross-Section Density Equation 3.4 Deppisch et al 2024.\n",
    "\n",
    "$\\gamma_{X_1 X_2 \\leftrightarrow Y_1 Y_2} = \\frac{T}{64 \\pi^4} \\int^{\\infty}_{s_{min}} s^{\\frac{1}{2}} \\hat{\\sigma} (s) K_1 (\\frac{\\sqrt{s}}{T}) ds$"
   ]
  },
  {
   "cell_type": "markdown",
   "metadata": {},
   "source": [
    "rewritten in terms of"
   ]
  },
  {
   "cell_type": "markdown",
   "metadata": {},
   "source": [
    "$T = \\frac{m_N}{z}$"
   ]
  },
  {
   "cell_type": "markdown",
   "metadata": {},
   "source": [
    "$\\gamma_{X_1 X_2 \\leftrightarrow Y_1 Y_2} = \\frac{m_N}{64 z \\pi^4} \\int^{\\infty}_{s_{min}} s^{\\frac{1}{2}} \\hat{\\sigma} (s) K_1 (\\frac{ z \\sqrt{s}}{m_N}) ds$"
   ]
  },
  {
   "cell_type": "markdown",
   "metadata": {},
   "source": [
    "Where $\\hat{\\sigma} (s) = 2 s \\sigma (s) \\lambda (1, {m_{X_{1}}}^{2} /{s}, {m_{X_{2}}}^{2} / {s})$ is the reduced cross-section"
   ]
  },
  {
   "cell_type": "markdown",
   "metadata": {},
   "source": [
    "Where $\\lambda (a,b,c) = (a-b-c)^2  -4bc$ \n",
    "\n",
    "The minimum value of the integral is defined as\n",
    "\n",
    "$s_{min} = Max[(m_{X_1} + m_{X_2})^2 , (m_{Y_1} + m_{Y_2})^2]$"
   ]
  },
  {
   "cell_type": "code",
   "execution_count": 474,
   "metadata": {},
   "outputs": [],
   "source": [
    "def lambda_func(a, b, c):\n",
    "        return (a - b - c)**2 - 4*b*c"
   ]
  },
  {
   "cell_type": "code",
   "execution_count": 475,
   "metadata": {},
   "outputs": [],
   "source": [
    "def reduced_sigma(s):\n",
    "\n",
    "        sigma_val = cross_section_aa_vN(m_N, m_a, mixing_parameter_squared, s, f_a)\n",
    "        \n",
    "\n",
    "        lam = lambda_func(1, m_a**2/s, m_a**2/s)\n",
    "  \n",
    "        return 2 * s * sigma_val * lam"
   ]
  },
  {
   "cell_type": "markdown",
   "metadata": {},
   "source": [
    "Starting with the $aa \\rightarrow \\nu N (N)$ process - A.7 of Deppisch et al 2024.\n",
    "\n",
    "The cross-section is defined as\n",
    "$\\sigma_{a a \\to N N} = \\frac{2 m_N^4 \\sqrt{s - 4 m_a^2} U_{eN}^2}{\\pi f_a^4 s^{3/2}} \\left[ - \\frac{2(2m_a^4 - 7m_a^2 m_N^2 + 5m_N^4 + m_N^2 s)}{m_a^4 - 2m_a^2 m_N^2 + m_N^4 + m_N^2 s} + \\frac{4(2m_a^2 - 4m_N^2 - s) \\coth^{-1}\\left(\\frac{2(m_a^2 - m_N^2) - s}{\\sqrt{s - 4m_a^2}\\sqrt{s}}\\right)}{\\sqrt{s - 4m_a^2}\\sqrt{s}} \\right]$\n"
   ]
  },
  {
   "cell_type": "code",
   "execution_count": 476,
   "metadata": {},
   "outputs": [],
   "source": [
    "def cross_section_aa_vN(m_N, m_a,mixing_parameter_squared,s, f_a): #A.7 of paper\n",
    "    if s <= max((2 * m_a)**2, (m_N + m_nu)**2):\n",
    "        return 0.0\n",
    "\n",
    "    sqrt_s_minus_4ma2 = np.sqrt(s - 4 * m_a**2)\n",
    "    sqrt_s = np.sqrt(s)\n",
    "    # prefactor\n",
    "    prefactor_numerator = 2*m_N**4 * sqrt_s_minus_4ma2 * mixing_parameter_squared\n",
    "    prefactor_denominator = np.pi*f_a**4 *s**1.5\n",
    "    prefactor = prefactor_numerator/prefactor_denominator\n",
    "    termA_numerator = -2*(2*m_a**4 - 7*m_a**2 * m_N**2 + 5*m_N**4 + m_N**2 *s)\n",
    "    termA_denominator = m_a**4 - 2*m_a**2 *m_N**2 + m_N**4 + m_N**2 *s\n",
    "    termA = termA_numerator/ termA_denominator\n",
    "    coth_term_numerator = 2*(m_a**2 - m_N**2) - s\n",
    "    coth_term_denominator = sqrt_s_minus_4ma2 *sqrt_s\n",
    "    coth_term = mpmath.acoth(coth_term_numerator/coth_term_denominator)\n",
    "    termB_numerator = 4*(2*m_a**2 - 4*m_N**2 -s)*coth_term\n",
    "    termB_denominator = sqrt_s_minus_4ma2 * sqrt_s\n",
    "    termB = termB_numerator/termB_denominator\n",
    "    cross_section = prefactor*(termA + termB)\n",
    "    return cross_section"
   ]
  },
  {
   "cell_type": "markdown",
   "metadata": {},
   "source": [
    "Next the $aa \\rightarrow \\nu N (\\nu)$ process - A.7 of Deppisch et al 2024.\n",
    "\n",
    "\n",
    "$\\sigma_{aa\\nu N} = \\frac{4m_N^4 \\sqrt{s-4m_a^2} U_{eN}^6}{\\pi f_a^4 s^{3/2}} \\left[ -2 + \\frac{m_N^2}{m_a^2} + \\frac{2(s-2m_a^2)\\coth^{-1}\\left(\\frac{s-2m_a^2}{\\sqrt{s-4m_a^2}\\sqrt{s}}\\right)}{\\sqrt{s-4m_a^2}\\sqrt{s}} \\right]$\n"
   ]
  },
  {
   "cell_type": "code",
   "execution_count": 477,
   "metadata": {},
   "outputs": [],
   "source": [
    "def cross_section_aa_vN_v_med(m_N, m_a,mixing_parameter_squared,s, f_a): #A.10 of paper\n",
    "    \n",
    "    # 'with' block for temporary high precision.\n",
    "    with mpmath.workdps(50):\n",
    "        #all relevant inputs changed to mpmath high-precision floats to ensure enough precision for Acoth term stability in integral\n",
    "        s_mp, ma_mp, mn_mp = mpmath.mpf(s), mpmath.mpf(m_a), mpmath.mpf(m_N)\n",
    "        fa_mp = mpmath.mpf(f_a)\n",
    "        mix_sq_mp = mpmath.mpf(mixing_parameter_squared)\n",
    "        mnu_mp = mn_mp * mix_sq_mp\n",
    "\n",
    "        if s_mp <= (mn_mp + mnu_mp)**2:\n",
    "            return 0.0\n",
    "\n",
    "        sqrt_s = mpmath.sqrt(s_mp)\n",
    "        sqrt_s_minus_4ma2 = mpmath.sqrt(s_mp - 4 * ma_mp**2)\n",
    "\n",
    "        prefactor_num = 4 * mn_mp**4 * sqrt_s_minus_4ma2 * mix_sq_mp**3\n",
    "        prefactor_den = mpmath.pi * fa_mp**4 * s_mp**1.5\n",
    "        prefactor = prefactor_num / prefactor_den\n",
    "        \n",
    "        termA = mn_mp**2 / ma_mp**2\n",
    "        \n",
    "        acoth_num = s_mp - 2 * ma_mp**2\n",
    "        acoth_den = sqrt_s_minus_4ma2 * sqrt_s\n",
    "        acoth_term = mpmath.acoth(acoth_num / acoth_den)\n",
    "\n",
    "        termB_num = 2 * (s_mp - 2 * ma_mp**2) * acoth_term\n",
    "        termB_den = sqrt_s_minus_4ma2 * sqrt_s\n",
    "        termB = termB_num / termB_den\n",
    "\n",
    "        cross_section = prefactor * (-2 + termA + termB)\n",
    "    \n",
    "    # Return a standard float, as required by scipy.quad\n",
    "    return float(cross_section)"
   ]
  },
  {
   "cell_type": "markdown",
   "metadata": {},
   "source": [
    "Now Implementing the cross-section A.8 for Deppisch et al 2024\n",
    "\n",
    "$\n",
    "\\sigma_{aaNN} = \\frac{4m_N^4 \\sqrt{s - 4m_a^2} U_{eN}^4}{\\pi f_a^4 s^{3/2}} \\left[ - \\frac{2m_a^4 - 4m_a^2 m_N^2 + 4m_N^4 - m_N^2 s}{m_a^4 - 2m_a^2 m_N^2 + m_N^4 + m_N^2 s} + \\frac{2(m_a^2 + m_N^2 - s) \\coth^{-1}\\left( \\frac{2(m_a^2 + m_N^2) - s}{\\sqrt{s - 4m_a^2}\\sqrt{s - 4m_N^2}} \\right)}{\\sqrt{s - 4m_a^2}\\sqrt{s - 4m_N^2}} \\right]\n",
    "$"
   ]
  },
  {
   "cell_type": "code",
   "execution_count": 478,
   "metadata": {},
   "outputs": [],
   "source": [
    "def cross_section_aa_NN(m_N,m_a,mixing_parameter_squared, s, f_a):\n",
    "    \n",
    "    # Check kinematic thresholds\n",
    "    s_threshold = 4 * m_a**2\n",
    "    if s <= s_threshold:\n",
    "        return 0.0\n",
    "    \n",
    "    sqrt_s_minus_4ma2 = np.sqrt(s - 4 * m_a**2)\n",
    "    sqrt_s_minus_4mN2 = np.sqrt(s - 4 * m_N**2)\n",
    "    \n",
    "    prefactor_numerator = 4*m_N**4 *sqrt_s_minus_4ma2 * mixing_parameter_squared**2\n",
    "    prefactor_denominator = np.pi*f_a**4 *s**1.5\n",
    "    prefactor = prefactor_numerator/prefactor_denominator\n",
    "    termA_numerator = -(2*m_a**4 - 4*m_a**2 *m_N**2 + 4*m_N**4 -m_N**2 *s)\n",
    "    termA_denominator = m_a**4 - 2*m_a**2 * m_N**2 + m_N**4 + m_N**2 *s\n",
    "    termA = termA_numerator/termA_denominator\n",
    "    acoth_numerator = 2*(m_a**2 + m_N**2) - s \n",
    "    acoth_denominator = sqrt_s_minus_4ma2*sqrt_s_minus_4mN2\n",
    "    acoth_term = mpmath.acoth(acoth_numerator/acoth_denominator)\n",
    "    termB_numerator = (2*(m_a**2 + m_N**2)- s)*acoth_term \n",
    "    termB_denominator = sqrt_s_minus_4ma2*sqrt_s_minus_4mN2\n",
    "    termB = termB_numerator/termB_denominator \n",
    "    cross_section = prefactor*(termA + termB)\n",
    "    return cross_section"
   ]
  },
  {
   "cell_type": "code",
   "execution_count": 479,
   "metadata": {},
   "outputs": [],
   "source": [
    "def gamma_aa_vN(z, m_N, m_a, mixing_parameter_squared, f_a):\n",
    "#HNL mediated process\n",
    "   \n",
    "    s_min = max((2*m_a)**2, (2*m_N)**2)\n",
    "\n",
    "    #s_max = (100*(m_N/z))**2  # Safe upper bound where K₁ decays sufficiently\n",
    "    s_max = np.inf\n",
    "\n",
    "\n",
    "    def lambda_func(a, b, c):\n",
    "        return (a - b - c)**2 - 4*b*c\n",
    "    \n",
    "\n",
    "    def reduced_sigma(s):\n",
    "\n",
    "        sigma_val = cross_section_aa_vN(m_N, m_a, mixing_parameter_squared, s, f_a)\n",
    "        \n",
    "\n",
    "        lam = lambda_func(1, m_a**2/s, m_a**2/s)\n",
    "  \n",
    "        return 2 * s * sigma_val * lam\n",
    "    \n",
    "\n",
    "    def integrand(s):\n",
    "        # Handle snear zero to avoid numerical issues\n",
    "        if s <= 0:\n",
    "            return 0.0\n",
    "        return np.sqrt(s) * reduced_sigma(s) * k1(np.sqrt(s)/(m_N/z))\n",
    "    \n",
    "\n",
    "    # below format ignores error value as integrand produces result and error\n",
    "    integral, _ = quad(integrand, s_min, s_max, \n",
    "                      epsabs=1e-9, epsrel=1e-6, \n",
    "                      limit=1000)\n",
    "    \n",
    "\n",
    "    gamma = ((m_N/z) / (64 * np.pi**4)) * integral\n",
    "    return gamma\n"
   ]
  },
  {
   "cell_type": "markdown",
   "metadata": {},
   "source": [
    "Same as above for the light neutrino mediated process, I will go back and combine them to make the code more efficient later."
   ]
  },
  {
   "cell_type": "code",
   "execution_count": 480,
   "metadata": {},
   "outputs": [],
   "source": [
    "def gamma_aa_vN_v_med(z, m_N, m_a, mixing_parameter_squared, f_a):\n",
    "\n",
    "    \n",
    "    #s_min = (m_N + m_nu)**2\n",
    "    s_max = np.inf\n",
    "    s_min = max((2*m_a)**2, (2*m_N)**2)\n",
    "\n",
    "    #s_max = (100*(m_N/z))**2  # Safe upper bound where K₁ decays sufficiently\n",
    "    \n",
    "    \n",
    "\n",
    "    def lambda_func(a, b, c):\n",
    "        return (a - b - c)**2 - 4*b*c\n",
    "    \n",
    "\n",
    "    def reduced_sigma(s):\n",
    "\n",
    "        sigma_val = cross_section_aa_vN_v_med(m_N, m_a, mixing_parameter_squared, s, f_a)\n",
    "        \n",
    "\n",
    "        lam = lambda_func(1, m_a**2/s, m_a**2/s)\n",
    "  \n",
    "        return 2 * s * sigma_val * lam\n",
    "    \n",
    "\n",
    "    def integrand(s):\n",
    "        # Handle snear zero to avoid numerical issues\n",
    "        if s <= 0:\n",
    "            return 0.0\n",
    "        return np.sqrt(s) * reduced_sigma(s) * k1(np.sqrt(s)/(m_N/z))\n",
    "    \n",
    "\n",
    "    # below format ignores error value as integrand produces result and error\n",
    "    integral, _ = quad(integrand, s_min, s_max, \n",
    "                      epsabs=1e-9, epsrel=1e-6, \n",
    "                      limit=1000)\n",
    "    \n",
    "\n",
    "    gamma = ((m_N/z) / (64 * np.pi**4)) * integral\n",
    "    return gamma\n"
   ]
  },
  {
   "cell_type": "code",
   "execution_count": 481,
   "metadata": {},
   "outputs": [],
   "source": [
    "def gamma_aa_NN(z, m_N, m_a, mixing_parameter_squared, f_a):\n",
    "\n",
    "   \n",
    "    #s_min = max((4.1*m_a)**2, (4.1*m_N)**2)\n",
    "    #s_min = s_threshold = 4 * m_N**2\n",
    "    s_min = max((2*m_a)**2, (2*m_N)**2)\n",
    "    \n",
    "    \n",
    "    s_max = np.inf\n",
    "    \n",
    "\n",
    "    def lambda_func(a, b, c):\n",
    "        return (a - b - c)**2 - 4*b*c\n",
    "    \n",
    "\n",
    "    def reduced_sigma(s):\n",
    "\n",
    "        sigma_val = cross_section_aa_NN(m_N, m_a, mixing_parameter_squared, s, f_a)\n",
    "        \n",
    "        #print(sigma_val, 'sigma_val')\n",
    "        lam = lambda_func(1, m_a**2/s, m_a**2/s)\n",
    "        #print(lam, 'lam')\n",
    "  \n",
    "        return 2 * s * sigma_val * lam\n",
    "    \n",
    "\n",
    "    def integrand(s):\n",
    "        # Handle snear zero to avoid numerical issues\n",
    "        if s <= 0:\n",
    "            return 0.0\n",
    "        return np.sqrt(s) * reduced_sigma(s) * k1(np.sqrt(s)/(m_N/z))\n",
    "    \n",
    "\n",
    "    # below format ignores error value as integrand produces result and error\n",
    "    integral, _ = quad(integrand, s_min, s_max)\n",
    "    #print(integral, 'integral') # problem with this integral\n",
    "\n",
    "    gamma = ((m_N/z) / (64 * np.pi**4)) * integral\n",
    "\n",
    "    \n",
    "    return gamma\n"
   ]
  },
  {
   "cell_type": "markdown",
   "metadata": {},
   "source": [
    "Baumann Cosmology Equation 3.55"
   ]
  },
  {
   "cell_type": "markdown",
   "metadata": {},
   "source": [
    "Hubble Parameter $H^2 = \\frac{\\pi^2}{90} g_* \\frac{T^4}{M_{pl}^{2}}$ \n",
    "$\\rightarrow H = \\frac{\\pi}{M_{pl}} * \\sqrt{\\frac{g_*}{90}}* (\\frac{m_N}{z})^2$"
   ]
  },
  {
   "cell_type": "code",
   "execution_count": 482,
   "metadata": {},
   "outputs": [],
   "source": [
    "def H(z):\n",
    "    H = (np.pi/M_pl)*(np.sqrt(g_star/90))*((m_N/z)**2)\n",
    "    return H"
   ]
  },
  {
   "cell_type": "markdown",
   "metadata": {},
   "source": [
    "Entropy Density - Baumann 3.50"
   ]
  },
  {
   "cell_type": "markdown",
   "metadata": {},
   "source": [
    "$s = \\Sigma_i \\frac{\\rho_i + P_i}{T} = \\frac{2 \\pi^2}{45}*g_{*s}(T)*T^3$"
   ]
  },
  {
   "cell_type": "markdown",
   "metadata": {},
   "source": [
    "$s = \\frac{2 \\pi^2}{45}*g_{*s} * (\\frac{m_N}{z})^3 $"
   ]
  },
  {
   "cell_type": "code",
   "execution_count": 483,
   "metadata": {},
   "outputs": [],
   "source": [
    "gamma_N_av_n_N_eq_ratio_list = [] \n",
    "gamma_a_vv_n_N_eq_ratio_list = []\n",
    "H_list = []\n",
    "gamma_aa_vN_list = []\n",
    "aa_vN_ratio_list = []\n",
    "n_a_eq_list = []\n",
    "#light neutrino mediated cross section aa -> vN (v)\n",
    "aa_vN_v_med_ratio_list = []\n",
    "#for the aa_NN process\n",
    "aa_NN_ratio_list = []\n",
    "#n->SM process\n",
    "gamma_N_SM_n_N_eq_ratio_list = []\n"
   ]
  },
  {
   "cell_type": "code",
   "execution_count": 484,
   "metadata": {},
   "outputs": [],
   "source": [
    "def entropy_density(z):\n",
    "    entropy_density = ((2*(np.pi**2))/(45))*g_star*((m_N/z)**3)\n",
    "    return entropy_density"
   ]
  },
  {
   "cell_type": "markdown",
   "metadata": {},
   "source": [
    "Temporary non-relativistic species density"
   ]
  },
  {
   "cell_type": "code",
   "execution_count": 485,
   "metadata": {},
   "outputs": [],
   "source": [
    "def equilibrium_species_density(g,mass,z):\n",
    "    species_density = g*(mass**3)*(1/(2*(np.pi**2)*(z)))*kn(2,z)\n",
    "    return species_density "
   ]
  },
  {
   "cell_type": "markdown",
   "metadata": {},
   "source": [
    "However for Figure 4 of Deppisch 2024, the y axis is plotting \\\n",
    "\n",
    "$\\gamma_{X \\rightarrow Y_1 ...}/ n^{eq}_X$ \\\n",
    "Hence, in equation form this can be written simply as \n",
    "\n",
    "$\\gamma_{X \\rightarrow Y_1 ...}/ n^{eq}_X = \\frac{K_{1}}{K_{2}}\\Gamma_X  $"
   ]
  },
  {
   "cell_type": "code",
   "execution_count": null,
   "metadata": {},
   "outputs": [],
   "source": [
    "\n",
    "\n",
    "\n",
    "\n",
    "    "
   ]
  },
  {
   "cell_type": "markdown",
   "metadata": {},
   "source": [
    "Below I evaluate the cross-section Terms starting with A.7"
   ]
  },
  {
   "cell_type": "code",
   "execution_count": 486,
   "metadata": {},
   "outputs": [],
   "source": [
    "for z in mass_temp_ratio:\n",
    "    \n",
    "    if z > 0.1/173.3 and z < 125.6 :\n",
    "      g_star = 106.75 \n",
    "\n",
    "    elif z > 0.1/125.6 and z < 91.2 :\n",
    "\n",
    "      g_star = 96.25\n",
    "    elif z> 0.1/91.2 and z <  80.4:\n",
    "        g_star = 95.25\n",
    "    elif z> 0.1/80.4 and z < 4.19:\n",
    "        g_star = 92.25\n",
    "    elif z> 0.1/4.19 and z < 0.1/1.777 :\n",
    "        g_star = 86.25\n",
    "    elif z>0.1/1.777 and  z < 0.1/1.29:\n",
    "        g_star = 75.75\n",
    "    elif z> 0.1/1.29 and z < 0.1/0.214 :\n",
    "        g_star = 72.25\n",
    "    elif z> 0.1/0.214 and z < 0.1/0.1396:\n",
    "        g_star = 61.75\n",
    "    elif z> 0.1/0.1396 and z < 0.1/0.135 :\n",
    "        g_star = 17.25\n",
    "    elif z> 0.1/0.135 and z < 0.1/0.1057 :\n",
    "        g_star = 15.25\n",
    "    elif z> 0.1/0.1057 and z < 0.1/0.01:\n",
    "        g_star = 14.25\n",
    "    elif z>0.1/800e-6 and z < 0.1/511e-3:\n",
    "        g_star = 10.75\n",
    "    elif z < 800e-6:\n",
    "        g_star = 3.909\n",
    "\n",
    "\n",
    "    gamma_N_av_n_N_eq_ratio_value =  decay_width_N_av(1e3,m_N,mixing_parameter_squared, m_a)*(kn(1,z)/kn(2,z))\n",
    "    gamma_N_av_n_N_eq_ratio_list.append(gamma_N_av_n_N_eq_ratio_value)\n",
    "    gamma_a_vv_n_N_eq_ratio_value = decay_width_a_vv(f_a, m_N, mixing_parameter_squared, m_a, m_nu)*(kn(1,z)/kn(2,z))\n",
    "    gamma_a_vv_n_N_eq_ratio_list.append(gamma_a_vv_n_N_eq_ratio_value)\n",
    "    #N -> SM\n",
    "    gamma_N_SM_n_N_eq_ratio_value = gamma_N_to_SM(m_N, mixing_parameter_squared) *(kn(1,z)/kn(2,z))\n",
    "    gamma_N_SM_n_N_eq_ratio_list.append(gamma_N_SM_n_N_eq_ratio_value)\n",
    "\n",
    "    H_value = H(z)\n",
    "    H_list.append(H_value)\n",
    "    gamma_aa_vN_value = gamma_aa_vN(z, m_N, m_a, mixing_parameter_squared, f_a)\n",
    "    gamma_aa_vN_list.append(gamma_aa_vN_value)\n",
    "    n_a_eq_value = n_X_eq_bosons(1, m_N, z)\n",
    "    n_a_eq_list.append(n_a_eq_value)\n",
    "    aa_vN_ratio_value = gamma_aa_vN_value/ n_a_eq_value\n",
    "    aa_vN_ratio_list.append(aa_vN_ratio_value)\n",
    "      #now for the light neutrino mediated process\n",
    "    gamma_aa_vN_v_med_value = gamma_aa_vN_v_med(z, m_N, m_a, mixing_parameter_squared, f_a)\n",
    "    aa_vN_v_med_ratio_value = gamma_aa_vN_v_med_value/ n_a_eq_value\n",
    "    aa_vN_v_med_ratio_list.append(aa_vN_v_med_ratio_value)\n",
    "    #for the aa->NN process\n",
    "    aa_NN_gamma_value = gamma_aa_NN(z, m_N, m_a, mixing_parameter_squared, f_a)\n",
    "    aa_NN_ratio_value = aa_NN_gamma_value / n_a_eq_value\n",
    "    #print(aa_NN_ratio_value)\n",
    "    aa_NN_ratio_list.append(aa_NN_ratio_value)\n",
    "    \n"
   ]
  },
  {
   "cell_type": "code",
   "execution_count": 487,
   "metadata": {},
   "outputs": [
    {
     "name": "stdout",
     "output_type": "stream",
     "text": [
      "[np.float64(5.426819983195866e-20), np.float64(1.6230132815003153e-33), np.float64(2.3109684443609543e-35), np.float64(9.18441078726049e-37), np.float64(5.363610611489344e-38), np.float64(3.825977227602846e-39), np.float64(3.0839567662134803e-40), np.float64(2.6993105514426205e-41), np.float64(2.5070886042960766e-42), np.float64(2.4352852541244796e-43), np.float64(2.4498427776150704e-44), np.float64(2.5345561362053817e-45), np.float64(2.6827515510226636e-46), np.float64(2.8935471973187856e-47), np.float64(3.170114526032758e-48), np.float64(3.5189078834268525e-49), np.float64(3.9494156919840145e-50), np.float64(4.4742304170474684e-51), np.float64(5.109345348767208e-52), np.float64(5.874641127599572e-53), np.float64(6.794555087415635e-54), np.float64(7.898945424057491e-55), np.float64(9.2241762476216e-56), np.float64(1.0814461954699588e-56), np.float64(1.2723521878214152e-57), np.float64(1.5016610030376144e-58), np.float64(1.777300088859953e-59), np.float64(2.1089031464707314e-60), np.float64(2.508182327773661e-61), np.float64(2.989383638632696e-62), np.float64(3.569844259440683e-63), np.float64(4.270674785696206e-64), np.float64(5.1175946655155125e-65), np.float64(6.141955598360607e-66), np.float64(7.38199564303848e-67), np.float64(8.884376612482245e-68), np.float64(1.0706069438777307e-68), np.float64(1.2916667106088997e-69), np.float64(1.560122312806347e-70), np.float64(1.8863736200695294e-71), np.float64(2.2831429593066646e-72), np.float64(2.766000828419567e-73), np.float64(3.354011934365052e-74), np.float64(4.0705293476635916e-75), np.float64(4.944171034758949e-76), np.float64(6.010021014904626e-77), np.float64(7.311107246749826e-78), np.float64(8.90022052346354e-79), np.float64(1.0842153690764548e-79), np.float64(1.3216459076073745e-80), np.float64(1.61208449662694e-81), np.float64(1.967536033224624e-82), np.float64(2.4027552053221324e-83), np.float64(2.935882223030765e-84), np.float64(3.589226676344618e-85), np.float64(4.390234263334373e-86), np.float64(5.3726793296501e-87), np.float64(6.578136300291096e-88), np.float64(8.057795631136163e-89), np.float64(9.87470543423847e-90), np.float64(1.210653914817968e-90), np.float64(1.4849013413909322e-91), np.float64(1.8220109769587025e-92), np.float64(2.2365290249010275e-93), np.float64(2.746394213612387e-94), np.float64(3.373734307474861e-95), np.float64(4.145850704013518e-96), np.float64(5.096435754993668e-97), np.float64(6.267078089962344e-98), np.float64(7.70912440806551e-99), np.float64(9.485982549456034e-100), np.float64(1.1675970920276535e-100), np.float64(1.4375844466932832e-101), np.float64(1.7705158545372609e-102), np.float64(2.181167066063074e-103), np.float64(2.6878027962748533e-104), np.float64(3.313004781441149e-105), np.float64(4.084697247108132e-106), np.float64(5.03741703855722e-107), np.float64(6.2138870150449175e-108), np.float64(7.666965394454266e-109), np.float64(9.462061216500293e-110), np.float64(1.1680127791574362e-110), np.float64(1.442137293902285e-111), np.float64(1.7809858260954484e-112), np.float64(2.1999201220999395e-113), np.float64(2.7179645359790457e-114), np.float64(3.358682801377078e-115), np.float64(4.1512654436087025e-116), np.float64(5.131878600797153e-117), np.float64(6.3453372950666024e-118), np.float64(7.847181441371721e-119), np.float64(9.706251825166848e-120), np.float64(1.2007886819449415e-120), np.float64(1.4857889864246462e-121), np.float64(1.838745408724992e-122), np.float64(2.2759275631773535e-123), np.float64(2.8175143427804786e-124), np.float64(3.488536296863772e-125), np.float64(4.3200458467283485e-126)]\n"
     ]
    }
   ],
   "source": [
    "print(gamma_aa_vN_list)"
   ]
  },
  {
   "cell_type": "code",
   "execution_count": 488,
   "metadata": {},
   "outputs": [
    {
     "data": {
      "image/png": "[encoded data removed]",
      "text/plain": [
       "<Figure size 640x480 with 1 Axes>"
      ]
     },
     "metadata": {},
     "output_type": "display_data"
    }
   ],
   "source": [
    "plt.loglog(mass_temp_ratio, gamma_N_av_n_N_eq_ratio_list, label = r'$\\gamma_{N \\rightarrow a \\nu }/ n_{N}^{eq}$')\n",
    "plt.loglog(mass_temp_ratio, gamma_a_vv_n_N_eq_ratio_list,label = r'$\\gamma_{a \\rightarrow \\nu \\nu }/ n_{a}^{eq}$' )\n",
    "plt.loglog(mass_temp_ratio, H_list, label = 'Hubble parameter' )\n",
    "plt.loglog(mass_temp_ratio, aa_vN_ratio_list, label = r'$ aa \\rightarrow \\nu N (N)$')\n",
    "plt.loglog(mass_temp_ratio, aa_vN_v_med_ratio_list, label = r'$ aa \\rightarrow \\nu N (\\nu )$')\n",
    "plt.loglog(mass_temp_ratio, gamma_N_SM_n_N_eq_ratio_list, label = 'N-> SM')\n",
    "plt.loglog(mass_temp_ratio, aa_NN_ratio_list, label = 'aa - > NN' )\n",
    "plt.xlim(1e-4, 1e2)\n",
    "plt.ylim(1e-45, 1e-12)\n",
    "plt.title(r'$\\gamma_{X \\rightarrow Y }/ n_{X}^{eq}$')\n",
    "plt.xlabel(\"z = m_N /T\")\n",
    "plt.ylabel(r'$\\gamma_{X \\rightarrow Y }/ n_{X}^{eq}$')\n",
    "plt.legend()\n",
    "plt.show()\n",
    "\n",
    "\n"
   ]
  },
  {
   "cell_type": "code",
   "execution_count": null,
   "metadata": {},
   "outputs": [],
   "source": []
  }
 ],
 "metadata": {
  "kernelspec": {
   "display_name": ".venv",
   "language": "python",
   "name": "python3"
  },
  "language_info": {
   "codemirror_mode": {
    "name": "ipython",
    "version": 3
   },
   "file_extension": ".py",
   "mimetype": "text/x-python",
   "name": "python",
   "nbconvert_exporter": "python",
   "pygments_lexer": "ipython3",
   "version": "3.9.6"
  },
  "orig_nbformat": 4
 },
 "nbformat": 4,
 "nbformat_minor": 2
}
